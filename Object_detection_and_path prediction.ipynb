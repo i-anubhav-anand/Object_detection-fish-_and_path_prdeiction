{
 "cells": [
  {
   "cell_type": "code",
   "execution_count": 1,
   "id": "766d0285",
   "metadata": {},
   "outputs": [],
   "source": [
    "import cv2\n",
    "import numpy as np\n",
    "import pandas as pd\n",
    "import matplotlib.pyplot as plt\n",
    "from collections import defaultdict\n"
   ]
  },
  {
   "cell_type": "code",
   "execution_count": 2,
   "id": "9c547883",
   "metadata": {},
   "outputs": [],
   "source": [
    "net = cv2.dnn.readNetFromDarknet(\"./yolov3_custom.cfg.txt\",\n",
    "                                \"./yolov3-obj_30000.weights\")\n",
    "classes = ['fish']"
   ]
  },
  {
   "cell_type": "code",
   "execution_count": 302,
   "id": "b4916599",
   "metadata": {
    "scrolled": true
   },
   "outputs": [
    {
     "ename": "error",
     "evalue": "OpenCV(4.5.4) D:\\a\\opencv-python\\opencv-python\\opencv\\modules\\imgproc\\src\\resize.cpp:4051: error: (-215:Assertion failed) !ssize.empty() in function 'cv::resize'\n",
     "output_type": "error",
     "traceback": [
      "\u001b[1;31m---------------------------------------------------------------------------\u001b[0m",
      "\u001b[1;31merror\u001b[0m                                     Traceback (most recent call last)",
      "\u001b[1;32m<ipython-input-302-f88082c2d5e2>\u001b[0m in \u001b[0;36m<module>\u001b[1;34m\u001b[0m\n\u001b[0;32m     14\u001b[0m \u001b[1;32mwhile\u001b[0m \u001b[1;36m1\u001b[0m\u001b[1;33m:\u001b[0m\u001b[1;33m\u001b[0m\u001b[1;33m\u001b[0m\u001b[0m\n\u001b[0;32m     15\u001b[0m     \u001b[0m_\u001b[0m\u001b[1;33m,\u001b[0m \u001b[0mimg\u001b[0m \u001b[1;33m=\u001b[0m \u001b[0mcap\u001b[0m\u001b[1;33m.\u001b[0m\u001b[0mread\u001b[0m\u001b[1;33m(\u001b[0m\u001b[1;33m)\u001b[0m\u001b[1;33m\u001b[0m\u001b[1;33m\u001b[0m\u001b[0m\n\u001b[1;32m---> 16\u001b[1;33m     \u001b[0mimg\u001b[0m \u001b[1;33m=\u001b[0m \u001b[0mcv2\u001b[0m\u001b[1;33m.\u001b[0m\u001b[0mresize\u001b[0m\u001b[1;33m(\u001b[0m\u001b[0mimg\u001b[0m\u001b[1;33m,\u001b[0m\u001b[1;33m(\u001b[0m\u001b[1;36m960\u001b[0m\u001b[1;33m,\u001b[0m\u001b[1;36m480\u001b[0m\u001b[1;33m)\u001b[0m\u001b[1;33m)\u001b[0m\u001b[1;33m\u001b[0m\u001b[1;33m\u001b[0m\u001b[0m\n\u001b[0m\u001b[0;32m     17\u001b[0m     \u001b[0mhight\u001b[0m\u001b[1;33m,\u001b[0m\u001b[0mwidth\u001b[0m\u001b[1;33m,\u001b[0m\u001b[0m_\u001b[0m \u001b[1;33m=\u001b[0m \u001b[0mimg\u001b[0m\u001b[1;33m.\u001b[0m\u001b[0mshape\u001b[0m\u001b[1;33m\u001b[0m\u001b[1;33m\u001b[0m\u001b[0m\n\u001b[0;32m     18\u001b[0m     \u001b[0mblob\u001b[0m \u001b[1;33m=\u001b[0m \u001b[0mcv2\u001b[0m\u001b[1;33m.\u001b[0m\u001b[0mdnn\u001b[0m\u001b[1;33m.\u001b[0m\u001b[0mblobFromImage\u001b[0m\u001b[1;33m(\u001b[0m\u001b[0mimg\u001b[0m\u001b[1;33m,\u001b[0m \u001b[1;36m1\u001b[0m\u001b[1;33m/\u001b[0m\u001b[1;36m255\u001b[0m\u001b[1;33m,\u001b[0m\u001b[1;33m(\u001b[0m\u001b[1;36m416\u001b[0m\u001b[1;33m,\u001b[0m\u001b[1;36m416\u001b[0m\u001b[1;33m)\u001b[0m\u001b[1;33m,\u001b[0m\u001b[1;33m(\u001b[0m\u001b[1;36m0\u001b[0m\u001b[1;33m,\u001b[0m\u001b[1;36m0\u001b[0m\u001b[1;33m,\u001b[0m\u001b[1;36m0\u001b[0m\u001b[1;33m)\u001b[0m\u001b[1;33m,\u001b[0m\u001b[0mswapRB\u001b[0m \u001b[1;33m=\u001b[0m \u001b[1;32mTrue\u001b[0m\u001b[1;33m,\u001b[0m\u001b[0mcrop\u001b[0m\u001b[1;33m=\u001b[0m \u001b[1;32mFalse\u001b[0m\u001b[1;33m)\u001b[0m\u001b[1;33m\u001b[0m\u001b[1;33m\u001b[0m\u001b[0m\n",
      "\u001b[1;31merror\u001b[0m: OpenCV(4.5.4) D:\\a\\opencv-python\\opencv-python\\opencv\\modules\\imgproc\\src\\resize.cpp:4051: error: (-215:Assertion failed) !ssize.empty() in function 'cv::resize'\n"
     ]
    }
   ],
   "source": [
    "x_cen=0\n",
    "my_listcX = []\n",
    "my_listcY=[]\n",
    "\n",
    "\n",
    "#location of mp4 file\n",
    "cap = cv2.VideoCapture('./fish.mp4')\n",
    "\n",
    "centroid_dict = defaultdict(list)\n",
    "object_id_list = []\n",
    "\n",
    "imgCanvas = np.zeros((480,960,3),np.uint8)\n",
    "\n",
    "while 1:\n",
    "    _, img = cap.read()\n",
    "    img = cv2.resize(img,(960,480))\n",
    "    hight,width,_ = img.shape\n",
    "    blob = cv2.dnn.blobFromImage(img, 1/255,(416,416),(0,0,0),swapRB = True,crop= False)\n",
    "\n",
    "    net.setInput(blob)\n",
    "\n",
    "    output_layers_name = net.getUnconnectedOutLayersNames()\n",
    "\n",
    "    layerOutputs = net.forward(output_layers_name)\n",
    "\n",
    "    boxes =[]\n",
    "    confidences = []\n",
    "    class_ids = []\n",
    "    object_box = []\n",
    "\n",
    "    for output in layerOutputs:\n",
    "        for detection in output:\n",
    "            score = detection[5:]\n",
    "            class_id = np.argmax(score)\n",
    "            confidence = score[class_id]\n",
    "            if confidence > 0.7:\n",
    "                center_x = int(detection[0] * width)\n",
    "                center_y = int(detection[1] * hight)\n",
    "                w = int(detection[2] * width)\n",
    "                h = int(detection[3]* hight)\n",
    "                x = int(center_x - w/2)\n",
    "                y = int(center_y - h/2)\n",
    "                boxes.append([x,y,w,h])\n",
    "                confidences.append((float(confidence)))\n",
    "                class_ids.append(class_id)\n",
    "    indexes = cv2.dnn.NMSBoxes(boxes,confidences,.5,.4)\n",
    "\n",
    "    boxes =[]\n",
    "    confidences = []\n",
    "    class_ids = []\n",
    "    for output in layerOutputs:\n",
    "        for detection in output:\n",
    "            score = detection[5:]\n",
    "            class_id = np.argmax(score)\n",
    "            confidence = score[class_id]\n",
    "            if confidence > 0.5:\n",
    "                center_x = int(detection[0] * width)\n",
    "                center_y = int(detection[1] * hight)\n",
    "                w = int(detection[2] * width)\n",
    "                h = int(detection[3]* hight)\n",
    "\n",
    "                x = int(center_x - w/2)\n",
    "                y = int(center_y - h/2)\n",
    "\n",
    "\n",
    "\n",
    "                boxes.append([x,y,w,h])\n",
    "                confidences.append((float(confidence)))\n",
    "                class_ids.append(class_id)\n",
    "\n",
    "    indexes = cv2.dnn.NMSBoxes(boxes,confidences,.8,.4)\n",
    "    font = cv2.FONT_HERSHEY_PLAIN\n",
    "    colors = np.random.uniform(0,255,size =(len(boxes),3))\n",
    "    if  len(indexes)>0:\n",
    "        for i in indexes.flatten():\n",
    "            x,y,w,h = boxes[i]\n",
    "            label = str(classes[class_ids[i]])\n",
    "            confidence = str(round(confidences[i],2))\n",
    "            color = colors[i]\n",
    "            cv2.rectangle(img,(x,y),(x+w,y+h),color,2)\n",
    "            startX=x\n",
    "            startY=y\n",
    "            endX=x+w\n",
    "            endY=y+h\n",
    "            cX=int((2*x+w)/2.0)\n",
    "            cY=int((2*y+h)/2.0)\n",
    "        \n",
    "            \n",
    "            cv2.circle(img, (cX,cY), 4, (0, 255, 0), -1)\n",
    "            start_pt = (cX, cY)\n",
    "            end_pt = (cX, cY)\n",
    "            cv2.line(img, start_pt, end_pt, (0, 255, 0), 2)\n",
    "            cv2.line(img, start_pt, end_pt, (0, 255, 0), 2)\n",
    "            cv2.line(imgCanvas, start_pt, end_pt, (0, 255, 0), 2)\n",
    "            #list created to make a dataframe\n",
    "            my_listcX.append(cX)\n",
    "            my_listcY.append(cY)\n",
    "            \n",
    "            cv2.putText(img,label + \" \" + confidence, (x,y+400),font,2,color,2)\n",
    "        \n",
    "        \n",
    "    img = cv2.addWeighted(img,0.5,imgCanvas,0.5,0)\n",
    "    cv2.imshow('img',img)\n",
    "    #cv2.imshow('canvas',imgCanvas)\n",
    "    if cv2.waitKey(1) == ord('q'):\n",
    "        break\n",
    "    \n",
    "cap.release()\n",
    "cv2.destroyAllWindows()\n"
   ]
  },
  {
   "cell_type": "code",
   "execution_count": 4,
   "id": "5e6d3f2e",
   "metadata": {},
   "outputs": [
    {
     "data": {
      "text/plain": [
       "[623,\n",
       " 624,\n",
       " 624,\n",
       " 624,\n",
       " 624,\n",
       " 616,\n",
       " 617,\n",
       " 617,\n",
       " 611,\n",
       " 611,\n",
       " 600,\n",
       " 600,\n",
       " 600,\n",
       " 598,\n",
       " 598,\n",
       " 596,\n",
       " 595,\n",
       " 595,\n",
       " 582,\n",
       " 596,\n",
       " 582,\n",
       " 581,\n",
       " 581,\n",
       " 580,\n",
       " 580,\n",
       " 578,\n",
       " 578,\n",
       " 578,\n",
       " 578,\n",
       " 578,\n",
       " 574,\n",
       " 574,\n",
       " 575,\n",
       " 572,\n",
       " 572,\n",
       " 571,\n",
       " 571,\n",
       " 571,\n",
       " 568,\n",
       " 568,\n",
       " 568,\n",
       " 568,\n",
       " 568,\n",
       " 567,\n",
       " 567,\n",
       " 567,\n",
       " 567,\n",
       " 567,\n",
       " 567,\n",
       " 566,\n",
       " 571,\n",
       " 571,\n",
       " 571,\n",
       " 565,\n",
       " 566,\n",
       " 563,\n",
       " 563,\n",
       " 563,\n",
       " 552,\n",
       " 552,\n",
       " 546,\n",
       " 545,\n",
       " 545,\n",
       " 533,\n",
       " 533,\n",
       " 538,\n",
       " 538,\n",
       " 538,\n",
       " 537,\n",
       " 537,\n",
       " 535,\n",
       " 535,\n",
       " 535,\n",
       " 532,\n",
       " 532,\n",
       " 526,\n",
       " 526,\n",
       " 527,\n",
       " 528,\n",
       " 528,\n",
       " 522,\n",
       " 522,\n",
       " 522,\n",
       " 508,\n",
       " 508,\n",
       " 508,\n",
       " 506,\n",
       " 507,\n",
       " 506,\n",
       " 505,\n",
       " 506,\n",
       " 504,\n",
       " 504,\n",
       " 502,\n",
       " 502,\n",
       " 498,\n",
       " 498,\n",
       " 498,\n",
       " 497,\n",
       " 498,\n",
       " 490,\n",
       " 490,\n",
       " 490,\n",
       " 484,\n",
       " 485,\n",
       " 480,\n",
       " 480,\n",
       " 480,\n",
       " 476,\n",
       " 477,\n",
       " 474,\n",
       " 474,\n",
       " 474,\n",
       " 466,\n",
       " 466,\n",
       " 463,\n",
       " 463,\n",
       " 463,\n",
       " 455,\n",
       " 455,\n",
       " 454,\n",
       " 454,\n",
       " 454,\n",
       " 451,\n",
       " 452,\n",
       " 449,\n",
       " 450,\n",
       " 450,\n",
       " 434,\n",
       " 434,\n",
       " 432,\n",
       " 432,\n",
       " 433,\n",
       " 430,\n",
       " 429,\n",
       " 428,\n",
       " 427,\n",
       " 427,\n",
       " 422,\n",
       " 422,\n",
       " 417,\n",
       " 418,\n",
       " 418,\n",
       " 413,\n",
       " 412,\n",
       " 407,\n",
       " 407,\n",
       " 407,\n",
       " 402,\n",
       " 402,\n",
       " 400,\n",
       " 400,\n",
       " 400,\n",
       " 398,\n",
       " 397,\n",
       " 395,\n",
       " 395,\n",
       " 395,\n",
       " 393,\n",
       " 394,\n",
       " 391,\n",
       " 391,\n",
       " 391,\n",
       " 390,\n",
       " 390,\n",
       " 387,\n",
       " 388,\n",
       " 388,\n",
       " 385,\n",
       " 384,\n",
       " 383,\n",
       " 384,\n",
       " 383,\n",
       " 381,\n",
       " 381,\n",
       " 385,\n",
       " 385,\n",
       " 385,\n",
       " 382,\n",
       " 382,\n",
       " 380,\n",
       " 382,\n",
       " 382,\n",
       " 378,\n",
       " 379,\n",
       " 376,\n",
       " 376,\n",
       " 377,\n",
       " 376,\n",
       " 377,\n",
       " 376,\n",
       " 376,\n",
       " 376,\n",
       " 374,\n",
       " 362,\n",
       " 359,\n",
       " 360,\n",
       " 360,\n",
       " 355,\n",
       " 355,\n",
       " 352,\n",
       " 352,\n",
       " 352,\n",
       " 354,\n",
       " 353,\n",
       " 348,\n",
       " 348,\n",
       " 347,\n",
       " 342,\n",
       " 341,\n",
       " 336,\n",
       " 336,\n",
       " 337,\n",
       " 334,\n",
       " 334,\n",
       " 331,\n",
       " 330,\n",
       " 330,\n",
       " 330,\n",
       " 329,\n",
       " 326,\n",
       " 326,\n",
       " 327,\n",
       " 321,\n",
       " 320,\n",
       " 315,\n",
       " 316,\n",
       " 316,\n",
       " 314,\n",
       " 315,\n",
       " 311,\n",
       " 311,\n",
       " 310,\n",
       " 309,\n",
       " 310,\n",
       " 306,\n",
       " 306,\n",
       " 307,\n",
       " 306,\n",
       " 307,\n",
       " 306,\n",
       " 305,\n",
       " 305,\n",
       " 305,\n",
       " 304,\n",
       " 302,\n",
       " 303,\n",
       " 303,\n",
       " 286,\n",
       " 287,\n",
       " 285,\n",
       " 285,\n",
       " 285,\n",
       " 282,\n",
       " 283,\n",
       " 279,\n",
       " 279,\n",
       " 279,\n",
       " 272,\n",
       " 273,\n",
       " 269,\n",
       " 268,\n",
       " 268,\n",
       " 267,\n",
       " 267,\n",
       " 267,\n",
       " 267,\n",
       " 267,\n",
       " 263,\n",
       " 264,\n",
       " 257,\n",
       " 257,\n",
       " 257,\n",
       " 253,\n",
       " 253,\n",
       " 249,\n",
       " 248,\n",
       " 248,\n",
       " 250,\n",
       " 248,\n",
       " 246,\n",
       " 246,\n",
       " 245,\n",
       " 237,\n",
       " 238,\n",
       " 236,\n",
       " 236,\n",
       " 236,\n",
       " 237,\n",
       " 236,\n",
       " 234,\n",
       " 234,\n",
       " 234,\n",
       " 231,\n",
       " 230,\n",
       " 227,\n",
       " 227,\n",
       " 228,\n",
       " 211,\n",
       " 211,\n",
       " 211,\n",
       " 212,\n",
       " 211,\n",
       " 211,\n",
       " 211,\n",
       " 210,\n",
       " 211]"
      ]
     },
     "execution_count": 4,
     "metadata": {},
     "output_type": "execute_result"
    }
   ],
   "source": [
    "my_listcX"
   ]
  },
  {
   "cell_type": "code",
   "execution_count": 5,
   "id": "6f57fdf8",
   "metadata": {
    "scrolled": false
   },
   "outputs": [
    {
     "data": {
      "text/plain": [
       "[342,\n",
       " 343,\n",
       " 343,\n",
       " 343,\n",
       " 343,\n",
       " 341,\n",
       " 342,\n",
       " 342,\n",
       " 340,\n",
       " 340,\n",
       " 325,\n",
       " 325,\n",
       " 325,\n",
       " 325,\n",
       " 326,\n",
       " 323,\n",
       " 322,\n",
       " 322,\n",
       " 322,\n",
       " 322,\n",
       " 320,\n",
       " 321,\n",
       " 321,\n",
       " 321,\n",
       " 320,\n",
       " 319,\n",
       " 319,\n",
       " 319,\n",
       " 317,\n",
       " 317,\n",
       " 314,\n",
       " 313,\n",
       " 315,\n",
       " 312,\n",
       " 312,\n",
       " 310,\n",
       " 311,\n",
       " 310,\n",
       " 310,\n",
       " 310,\n",
       " 308,\n",
       " 308,\n",
       " 308,\n",
       " 307,\n",
       " 308,\n",
       " 307,\n",
       " 308,\n",
       " 307,\n",
       " 306,\n",
       " 306,\n",
       " 306,\n",
       " 307,\n",
       " 307,\n",
       " 304,\n",
       " 304,\n",
       " 304,\n",
       " 304,\n",
       " 304,\n",
       " 303,\n",
       " 303,\n",
       " 300,\n",
       " 301,\n",
       " 300,\n",
       " 287,\n",
       " 287,\n",
       " 302,\n",
       " 302,\n",
       " 302,\n",
       " 301,\n",
       " 302,\n",
       " 302,\n",
       " 302,\n",
       " 302,\n",
       " 302,\n",
       " 301,\n",
       " 290,\n",
       " 290,\n",
       " 290,\n",
       " 302,\n",
       " 301,\n",
       " 289,\n",
       " 288,\n",
       " 289,\n",
       " 285,\n",
       " 285,\n",
       " 285,\n",
       " 285,\n",
       " 285,\n",
       " 283,\n",
       " 283,\n",
       " 282,\n",
       " 282,\n",
       " 282,\n",
       " 282,\n",
       " 282,\n",
       " 274,\n",
       " 275,\n",
       " 275,\n",
       " 269,\n",
       " 269,\n",
       " 268,\n",
       " 268,\n",
       " 268,\n",
       " 270,\n",
       " 270,\n",
       " 270,\n",
       " 270,\n",
       " 270,\n",
       " 268,\n",
       " 269,\n",
       " 267,\n",
       " 267,\n",
       " 267,\n",
       " 269,\n",
       " 268,\n",
       " 268,\n",
       " 268,\n",
       " 268,\n",
       " 268,\n",
       " 270,\n",
       " 268,\n",
       " 266,\n",
       " 266,\n",
       " 271,\n",
       " 270,\n",
       " 269,\n",
       " 269,\n",
       " 269,\n",
       " 266,\n",
       " 265,\n",
       " 265,\n",
       " 265,\n",
       " 265,\n",
       " 263,\n",
       " 263,\n",
       " 262,\n",
       " 262,\n",
       " 263,\n",
       " 252,\n",
       " 252,\n",
       " 251,\n",
       " 250,\n",
       " 250,\n",
       " 250,\n",
       " 250,\n",
       " 249,\n",
       " 249,\n",
       " 249,\n",
       " 250,\n",
       " 250,\n",
       " 250,\n",
       " 251,\n",
       " 251,\n",
       " 250,\n",
       " 251,\n",
       " 250,\n",
       " 250,\n",
       " 250,\n",
       " 251,\n",
       " 251,\n",
       " 250,\n",
       " 250,\n",
       " 250,\n",
       " 252,\n",
       " 252,\n",
       " 252,\n",
       " 252,\n",
       " 251,\n",
       " 252,\n",
       " 252,\n",
       " 252,\n",
       " 253,\n",
       " 253,\n",
       " 253,\n",
       " 253,\n",
       " 263,\n",
       " 263,\n",
       " 263,\n",
       " 264,\n",
       " 263,\n",
       " 264,\n",
       " 264,\n",
       " 264,\n",
       " 264,\n",
       " 264,\n",
       " 264,\n",
       " 264,\n",
       " 264,\n",
       " 263,\n",
       " 263,\n",
       " 265,\n",
       " 265,\n",
       " 265,\n",
       " 265,\n",
       " 264,\n",
       " 263,\n",
       " 264,\n",
       " 264,\n",
       " 264,\n",
       " 263,\n",
       " 265,\n",
       " 265,\n",
       " 265,\n",
       " 265,\n",
       " 265,\n",
       " 263,\n",
       " 263,\n",
       " 263,\n",
       " 264,\n",
       " 264,\n",
       " 264,\n",
       " 265,\n",
       " 264,\n",
       " 264,\n",
       " 264,\n",
       " 264,\n",
       " 264,\n",
       " 265,\n",
       " 266,\n",
       " 265,\n",
       " 266,\n",
       " 266,\n",
       " 266,\n",
       " 266,\n",
       " 266,\n",
       " 267,\n",
       " 267,\n",
       " 267,\n",
       " 267,\n",
       " 267,\n",
       " 268,\n",
       " 269,\n",
       " 268,\n",
       " 268,\n",
       " 268,\n",
       " 270,\n",
       " 269,\n",
       " 270,\n",
       " 269,\n",
       " 270,\n",
       " 269,\n",
       " 270,\n",
       " 270,\n",
       " 269,\n",
       " 268,\n",
       " 268,\n",
       " 268,\n",
       " 269,\n",
       " 268,\n",
       " 268,\n",
       " 270,\n",
       " 270,\n",
       " 270,\n",
       " 269,\n",
       " 269,\n",
       " 268,\n",
       " 268,\n",
       " 269,\n",
       " 268,\n",
       " 268,\n",
       " 268,\n",
       " 268,\n",
       " 268,\n",
       " 270,\n",
       " 269,\n",
       " 270,\n",
       " 269,\n",
       " 270,\n",
       " 271,\n",
       " 270,\n",
       " 270,\n",
       " 270,\n",
       " 270,\n",
       " 269,\n",
       " 269,\n",
       " 267,\n",
       " 266,\n",
       " 266,\n",
       " 266,\n",
       " 267,\n",
       " 265,\n",
       " 266,\n",
       " 266,\n",
       " 265,\n",
       " 263,\n",
       " 263,\n",
       " 263,\n",
       " 263,\n",
       " 266,\n",
       " 264,\n",
       " 266,\n",
       " 267,\n",
       " 267,\n",
       " 267,\n",
       " 267,\n",
       " 264,\n",
       " 264,\n",
       " 264,\n",
       " 253,\n",
       " 254,\n",
       " 252,\n",
       " 253,\n",
       " 253,\n",
       " 254,\n",
       " 253,\n",
       " 254,\n",
       " 254]"
      ]
     },
     "execution_count": 5,
     "metadata": {},
     "output_type": "execute_result"
    }
   ],
   "source": [
    "my_listcY"
   ]
  },
  {
   "cell_type": "code",
   "execution_count": 7,
   "id": "019f36f4",
   "metadata": {},
   "outputs": [
    {
     "data": {
      "text/plain": [
       "(307, 2)"
      ]
     },
     "execution_count": 7,
     "metadata": {},
     "output_type": "execute_result"
    }
   ],
   "source": [
    "d = {'cX' : my_listcX, 'cY' : my_listcY}\n",
    "df = pd.DataFrame(d)\n",
    "df.shape"
   ]
  },
  {
   "cell_type": "code",
   "execution_count": 8,
   "id": "9252ef3a",
   "metadata": {},
   "outputs": [
    {
     "data": {
      "text/plain": [
       "<AxesSubplot:>"
      ]
     },
     "execution_count": 8,
     "metadata": {},
     "output_type": "execute_result"
    },
    {
     "data": {
      "image/png": "[encoded data removed]",
      "text/plain": [
       "<Figure size 432x288 with 1 Axes>"
      ]
     },
     "metadata": {
      "needs_background": "light"
     },
     "output_type": "display_data"
    }
   ],
   "source": [
    "df.plot()"
   ]
  },
  {
   "cell_type": "markdown",
   "id": "5a6b4bb6",
   "metadata": {},
   "source": [
    "<h1>Prediction Using VAR Model</h1>"
   ]
  },
  {
   "cell_type": "code",
   "execution_count": 9,
   "id": "bb76ba4f",
   "metadata": {},
   "outputs": [],
   "source": [
    "from statsmodels.graphics.tsaplots import plot_acf, plot_pacf\n",
    "from statsmodels.tsa.statespace.varmax import VARMAX\n",
    "from statsmodels.tsa.api import VAR\n",
    "from statsmodels.tsa.stattools import grangercausalitytests, adfuller\n",
    "from tqdm import tqdm_notebook\n",
    "from itertools import product\n",
    "\n",
    "import matplotlib.pyplot as plt\n",
    "import statsmodels.api as sm\n",
    "import pandas as pd\n",
    "import numpy as np\n",
    "\n",
    "import warnings\n",
    "warnings.filterwarnings('ignore')"
   ]
  },
  {
   "cell_type": "code",
   "execution_count": 11,
   "id": "033a6da3",
   "metadata": {},
   "outputs": [],
   "source": [
    "def adfuller_test(point):\n",
    "    result=adfuller(point)\n",
    "    labels = ['ADF Test Statistic','p-value','#Lags Used','Number of Observations Used']\n",
    "    for value,label in zip(result,labels):\n",
    "        print(label+' : '+str(value) )\n",
    "    if result[1] <= 0.05:\n",
    "        print(\"strong evidence against the null hypothesis(Ho), reject the null hypothesis. Data has no unit root and is stationary\")\n",
    "    else:\n",
    "        print(\"weak evidence against null hypothesis, time series has a unit root, indicating it is non-stationary \")"
   ]
  },
  {
   "cell_type": "code",
   "execution_count": 12,
   "id": "58790532",
   "metadata": {
    "scrolled": false
   },
   "outputs": [
    {
     "name": "stdout",
     "output_type": "stream",
     "text": [
      "ADF Test Statistic : 0.04401752206034298\n",
      "p-value : 0.9620244144033178\n",
      "#Lags Used : 15\n",
      "Number of Observations Used : 291\n",
      "weak evidence against null hypothesis, time series has a unit root, indicating it is non-stationary \n"
     ]
    }
   ],
   "source": [
    "adfuller_test(df['cX'].dropna())"
   ]
  },
  {
   "cell_type": "code",
   "execution_count": 13,
   "id": "d54e2664",
   "metadata": {},
   "outputs": [
    {
     "name": "stdout",
     "output_type": "stream",
     "text": [
      "ADF Test Statistic : -3.2383944889314833\n",
      "p-value : 0.01786708068159714\n",
      "#Lags Used : 2\n",
      "Number of Observations Used : 304\n",
      "strong evidence against the null hypothesis(Ho), reject the null hypothesis. Data has no unit root and is stationary\n"
     ]
    }
   ],
   "source": [
    "adfuller_test(df['cY'].dropna())"
   ]
  },
  {
   "cell_type": "code",
   "execution_count": 14,
   "id": "19ff57da",
   "metadata": {},
   "outputs": [
    {
     "data": {
      "image/png": "[encoded data removed]",
      "text/plain": [
       "<Figure size 1200x720 with 2 Axes>"
      ]
     },
     "metadata": {
      "needs_background": "light"
     },
     "output_type": "display_data"
    }
   ],
   "source": [
    "fig, axes = plt.subplots(nrows=2, ncols=1, dpi=120, figsize=(10,6))\n",
    "for i, ax in enumerate(axes.flatten()):\n",
    "    data = df[df.columns[i]]\n",
    "    ax.plot(data, color='red', linewidth=1)\n",
    "    # Decorations\n",
    "    ax.set_title(df.columns[i])\n",
    "    ax.xaxis.set_ticks_position('none')\n",
    "    ax.yaxis.set_ticks_position('none')\n",
    "    ax.spines[\"top\"].set_alpha(0)\n",
    "    ax.tick_params(labelsize=6)\n",
    "\n",
    "plt.tight_layout();"
   ]
  },
  {
   "cell_type": "code",
   "execution_count": 15,
   "id": "e92b6392",
   "metadata": {},
   "outputs": [
    {
     "name": "stdout",
     "output_type": "stream",
     "text": [
      "cX causes cY?\n",
      "\n",
      "------------------\n",
      "\n",
      "Granger Causality\n",
      "number of lags (no zero) 1\n",
      "ssr based F test:         F=0.0970  , p=0.7556  , df_denom=303, df_num=1\n",
      "ssr based chi2 test:   chi2=0.0980  , p=0.7543  , df=1\n",
      "likelihood ratio test: chi2=0.0980  , p=0.7543  , df=1\n",
      "parameter F test:         F=0.0970  , p=0.7556  , df_denom=303, df_num=1\n",
      "\n",
      "Granger Causality\n",
      "number of lags (no zero) 2\n",
      "ssr based F test:         F=1.6072  , p=0.2022  , df_denom=300, df_num=2\n",
      "ssr based chi2 test:   chi2=3.2680  , p=0.1952  , df=2\n",
      "likelihood ratio test: chi2=3.2506  , p=0.1969  , df=2\n",
      "parameter F test:         F=1.6072  , p=0.2022  , df_denom=300, df_num=2\n",
      "\n",
      "Granger Causality\n",
      "number of lags (no zero) 3\n",
      "ssr based F test:         F=1.5594  , p=0.1993  , df_denom=297, df_num=3\n",
      "ssr based chi2 test:   chi2=4.7883  , p=0.1880  , df=3\n",
      "likelihood ratio test: chi2=4.7510  , p=0.1910  , df=3\n",
      "parameter F test:         F=1.5594  , p=0.1993  , df_denom=297, df_num=3\n",
      "\n",
      "Granger Causality\n",
      "number of lags (no zero) 4\n",
      "ssr based F test:         F=1.4968  , p=0.2031  , df_denom=294, df_num=4\n",
      "ssr based chi2 test:   chi2=6.1705  , p=0.1868  , df=4\n",
      "likelihood ratio test: chi2=6.1085  , p=0.1912  , df=4\n",
      "parameter F test:         F=1.4968  , p=0.2031  , df_denom=294, df_num=4\n",
      "\\cY Yauses cX?\n",
      "\n",
      "------------------\n",
      "\n",
      "Granger Causality\n",
      "number of lags (no zero) 1\n",
      "ssr based F test:         F=0.2300  , p=0.6318  , df_denom=303, df_num=1\n",
      "ssr based chi2 test:   chi2=0.2323  , p=0.6298  , df=1\n",
      "likelihood ratio test: chi2=0.2322  , p=0.6299  , df=1\n",
      "parameter F test:         F=0.2300  , p=0.6318  , df_denom=303, df_num=1\n",
      "\n",
      "Granger Causality\n",
      "number of lags (no zero) 2\n",
      "ssr based F test:         F=0.2950  , p=0.7447  , df_denom=300, df_num=2\n",
      "ssr based chi2 test:   chi2=0.5999  , p=0.7409  , df=2\n",
      "likelihood ratio test: chi2=0.5993  , p=0.7411  , df=2\n",
      "parameter F test:         F=0.2950  , p=0.7447  , df_denom=300, df_num=2\n",
      "\n",
      "Granger Causality\n",
      "number of lags (no zero) 3\n",
      "ssr based F test:         F=0.4608  , p=0.7098  , df_denom=297, df_num=3\n",
      "ssr based chi2 test:   chi2=1.4151  , p=0.7020  , df=3\n",
      "likelihood ratio test: chi2=1.4118  , p=0.7028  , df=3\n",
      "parameter F test:         F=0.4608  , p=0.7098  , df_denom=297, df_num=3\n",
      "\n",
      "Granger Causality\n",
      "number of lags (no zero) 4\n",
      "ssr based F test:         F=0.3242  , p=0.8617  , df_denom=294, df_num=4\n",
      "ssr based chi2 test:   chi2=1.3365  , p=0.8552  , df=4\n",
      "likelihood ratio test: chi2=1.3335  , p=0.8557  , df=4\n",
      "parameter F test:         F=0.3242  , p=0.8617  , df_denom=294, df_num=4\n"
     ]
    }
   ],
   "source": [
    "print('cX causes cY?\\n')\n",
    "print('------------------')\n",
    "granger_1 = grangercausalitytests(df[['cX', 'cY']], 4)\n",
    "\n",
    "print('\\cY Yauses cX?\\n')\n",
    "print('------------------')\n",
    "granger_2 = grangercausalitytests(df[['cY', 'cX']], 4)\n"
   ]
  },
  {
   "cell_type": "code",
   "execution_count": 16,
   "id": "ca69a129",
   "metadata": {},
   "outputs": [
    {
     "name": "stdout",
     "output_type": "stream",
     "text": [
      "(307, 2)\n"
     ]
    }
   ],
   "source": [
    "df = df[['cX','cY']]\n",
    "print(df.shape)"
   ]
  },
  {
   "cell_type": "code",
   "execution_count": 17,
   "id": "66135edd",
   "metadata": {},
   "outputs": [],
   "source": [
    "train_df=df[:-12]\n",
    "test_df=df[-12:]"
   ]
  },
  {
   "cell_type": "code",
   "execution_count": 18,
   "id": "e7235613",
   "metadata": {},
   "outputs": [
    {
     "name": "stdout",
     "output_type": "stream",
     "text": [
      "(12, 2)\n"
     ]
    }
   ],
   "source": [
    "print(test_df.shape)"
   ]
  },
  {
   "cell_type": "code",
   "execution_count": 19,
   "id": "7863996f",
   "metadata": {},
   "outputs": [],
   "source": [
    "model = VAR(train_df.diff()[1:])"
   ]
  },
  {
   "cell_type": "code",
   "execution_count": 20,
   "id": "b93221b0",
   "metadata": {},
   "outputs": [
    {
     "name": "stdout",
     "output_type": "stream",
     "text": [
      " VAR Order Selection (* highlights the minimums)  \n",
      "==================================================\n",
      "       AIC         BIC         FPE         HQIC   \n",
      "--------------------------------------------------\n",
      "0        3.545      3.571*       34.64       3.556\n",
      "1        3.514       3.593       33.58       3.546\n",
      "2        3.474       3.606       32.27      3.527*\n",
      "3        3.481       3.665       32.48       3.555\n",
      "4        3.480       3.718       32.47       3.576\n",
      "5       3.454*       3.744      31.63*       3.570\n",
      "6        3.476       3.819       32.34       3.614\n",
      "7        3.492       3.887       32.84       3.650\n",
      "8        3.506       3.955       33.33       3.686\n",
      "9        3.503       4.004       33.22       3.704\n",
      "10       3.479       4.032       32.43       3.701\n",
      "11       3.506       4.113       33.35       3.750\n",
      "12       3.523       4.183       33.93       3.788\n",
      "13       3.521       4.233       33.85       3.806\n",
      "14       3.533       4.297       34.27       3.840\n",
      "15       3.542       4.360       34.60       3.870\n",
      "16       3.571       4.441       35.62       3.920\n",
      "17       3.570       4.493       35.61       3.940\n",
      "18       3.579       4.555       35.96       3.971\n",
      "19       3.567       4.596       35.56       3.980\n",
      "20       3.563       4.644       35.42       3.997\n",
      "--------------------------------------------------\n"
     ]
    }
   ],
   "source": [
    "sorted_order=model.select_order(maxlags=20)\n",
    "print(sorted_order.summary())\n"
   ]
  },
  {
   "cell_type": "code",
   "execution_count": 23,
   "id": "89aa6a0d",
   "metadata": {},
   "outputs": [
    {
     "name": "stdout",
     "output_type": "stream",
     "text": [
      "                           Statespace Model Results                           \n",
      "==============================================================================\n",
      "Dep. Variable:           ['cX', 'cY']   No. Observations:                  295\n",
      "Model:                         VAR(4)   Log Likelihood              -11660.881\n",
      "                          + intercept   AIC                          23363.763\n",
      "Date:                Thu, 25 Nov 2021   BIC                          23441.189\n",
      "Time:                        13:36:19   HQIC                         23394.766\n",
      "Sample:                             0                                         \n",
      "                                - 295                                         \n",
      "Covariance Type:                  opg                                         \n",
      "===================================================================================\n",
      "Ljung-Box (L1) (Q):         259.74, 268.31   Jarque-Bera (JB):           7.03, 4.71\n",
      "Prob(Q):                        0.00, 0.00   Prob(JB):                   0.03, 0.09\n",
      "Heteroskedasticity (H):         0.36, 0.64   Skew:                      -0.02, 0.00\n",
      "Prob(H) (two-sided):            0.00, 0.03   Kurtosis:                   2.25, 2.38\n",
      "                           Results for equation cX                            \n",
      "==============================================================================\n",
      "                 coef    std err          z      P>|z|      [0.025      0.975]\n",
      "------------------------------------------------------------------------------\n",
      "intercept    423.3902      8.205     51.600      0.000     407.308     439.472\n",
      "L1.cX         -1.8508      0.043    -43.197      0.000      -1.935      -1.767\n",
      "L1.cY          2.8687      0.052     55.618      0.000       2.768       2.970\n",
      "L2.cX          0.0460      0.014      3.209      0.001       0.018       0.074\n",
      "L2.cY          0.3260      0.022     14.704      0.000       0.283       0.369\n",
      "L3.cX          1.9219      0.037     52.259      0.000       1.850       1.994\n",
      "L3.cY         -3.2449      0.060    -54.370      0.000      -3.362      -3.128\n",
      "L4.cX          1.1818      0.026     45.977      0.000       1.131       1.232\n",
      "L4.cY         -1.9358      0.038    -50.987      0.000      -2.010      -1.861\n",
      "                           Results for equation cY                            \n",
      "==============================================================================\n",
      "                 coef    std err          z      P>|z|      [0.025      0.975]\n",
      "------------------------------------------------------------------------------\n",
      "intercept    278.2600      6.652     41.829      0.000     265.222     291.298\n",
      "L1.cX         -0.4740      0.028    -16.859      0.000      -0.529      -0.419\n",
      "L1.cY          0.7925      0.036     22.125      0.000       0.722       0.863\n",
      "L2.cX         -0.1071      0.014     -7.738      0.000      -0.134      -0.080\n",
      "L2.cY          0.3291      0.024     13.467      0.000       0.281       0.377\n",
      "L3.cX          0.4367      0.023     19.295      0.000       0.392       0.481\n",
      "L3.cY         -0.7487      0.041    -18.053      0.000      -0.830      -0.667\n",
      "L4.cX          0.3414      0.018     18.901      0.000       0.306       0.377\n",
      "L4.cY         -0.6790      0.032    -21.386      0.000      -0.741      -0.617\n",
      "                             Error covariance matrix                              \n",
      "==================================================================================\n",
      "                     coef    std err          z      P>|z|      [0.025      0.975]\n",
      "----------------------------------------------------------------------------------\n",
      "sqrt.var.cX        4.4620      0.071     63.144      0.000       4.323       4.600\n",
      "sqrt.cov.cX.cY     1.5516      0.056     27.519      0.000       1.441       1.662\n",
      "sqrt.var.cY        2.4670      0.067     36.715      0.000       2.335       2.599\n",
      "==================================================================================\n",
      "\n",
      "Warnings:\n",
      "[1] Covariance matrix calculated using the outer product of gradients (complex-step).\n"
     ]
    }
   ],
   "source": [
    "var_model = VARMAX(train_df, order=(4,0),enforce_stationarity= True)\n",
    "train_df= train_df.astype('int64')\n",
    "fitted_model = var_model.fit(disp=False)\n",
    "print(fitted_model.summary())"
   ]
  },
  {
   "cell_type": "code",
   "execution_count": 24,
   "id": "5400c57a",
   "metadata": {},
   "outputs": [],
   "source": [
    "n_forecast = 12\n",
    "predict = fitted_model.get_prediction(start=len(train_df),end=len(train_df) + n_forecast-1)#start=\"1989-07-01\",end='1999-01-01')\n",
    "\n",
    "predictions=predict.predicted_mean"
   ]
  },
  {
   "cell_type": "code",
   "execution_count": 25,
   "id": "00f93b72",
   "metadata": {},
   "outputs": [
    {
     "data": {
      "text/html": [
       "<div>\n",
       "<style scoped>\n",
       "    .dataframe tbody tr th:only-of-type {\n",
       "        vertical-align: middle;\n",
       "    }\n",
       "\n",
       "    .dataframe tbody tr th {\n",
       "        vertical-align: top;\n",
       "    }\n",
       "\n",
       "    .dataframe thead th {\n",
       "        text-align: right;\n",
       "    }\n",
       "</style>\n",
       "<table border=\"1\" class=\"dataframe\">\n",
       "  <thead>\n",
       "    <tr style=\"text-align: right;\">\n",
       "      <th></th>\n",
       "      <th>cX_predicted</th>\n",
       "      <th>cY_predicted</th>\n",
       "    </tr>\n",
       "  </thead>\n",
       "  <tbody>\n",
       "    <tr>\n",
       "      <th>295</th>\n",
       "      <td>204.346593</td>\n",
       "      <td>244.855216</td>\n",
       "    </tr>\n",
       "    <tr>\n",
       "      <th>296</th>\n",
       "      <td>182.485958</td>\n",
       "      <td>238.261442</td>\n",
       "    </tr>\n",
       "    <tr>\n",
       "      <th>297</th>\n",
       "      <td>190.162895</td>\n",
       "      <td>237.396200</td>\n",
       "    </tr>\n",
       "    <tr>\n",
       "      <th>298</th>\n",
       "      <td>191.690849</td>\n",
       "      <td>238.278900</td>\n",
       "    </tr>\n",
       "    <tr>\n",
       "      <th>299</th>\n",
       "      <td>183.398944</td>\n",
       "      <td>238.815489</td>\n",
       "    </tr>\n",
       "    <tr>\n",
       "      <th>300</th>\n",
       "      <td>205.134314</td>\n",
       "      <td>244.312486</td>\n",
       "    </tr>\n",
       "    <tr>\n",
       "      <th>301</th>\n",
       "      <td>191.289835</td>\n",
       "      <td>242.646514</td>\n",
       "    </tr>\n",
       "    <tr>\n",
       "      <th>302</th>\n",
       "      <td>197.344653</td>\n",
       "      <td>243.268048</td>\n",
       "    </tr>\n",
       "    <tr>\n",
       "      <th>303</th>\n",
       "      <td>199.839831</td>\n",
       "      <td>244.007238</td>\n",
       "    </tr>\n",
       "    <tr>\n",
       "      <th>304</th>\n",
       "      <td>191.667148</td>\n",
       "      <td>241.855094</td>\n",
       "    </tr>\n",
       "    <tr>\n",
       "      <th>305</th>\n",
       "      <td>197.458411</td>\n",
       "      <td>242.582958</td>\n",
       "    </tr>\n",
       "    <tr>\n",
       "      <th>306</th>\n",
       "      <td>196.099958</td>\n",
       "      <td>242.763361</td>\n",
       "    </tr>\n",
       "  </tbody>\n",
       "</table>\n",
       "</div>"
      ],
      "text/plain": [
       "     cX_predicted  cY_predicted\n",
       "295    204.346593    244.855216\n",
       "296    182.485958    238.261442\n",
       "297    190.162895    237.396200\n",
       "298    191.690849    238.278900\n",
       "299    183.398944    238.815489\n",
       "300    205.134314    244.312486\n",
       "301    191.289835    242.646514\n",
       "302    197.344653    243.268048\n",
       "303    199.839831    244.007238\n",
       "304    191.667148    241.855094\n",
       "305    197.458411    242.582958\n",
       "306    196.099958    242.763361"
      ]
     },
     "execution_count": 25,
     "metadata": {},
     "output_type": "execute_result"
    }
   ],
   "source": [
    "predictions.columns=['cX_predicted','cY_predicted']\n",
    "predictions\n"
   ]
  },
  {
   "cell_type": "code",
   "execution_count": 26,
   "id": "15c80d6f",
   "metadata": {},
   "outputs": [],
   "source": [
    "test_vs_pred=pd.concat([test_df,predictions],axis=1)"
   ]
  },
  {
   "cell_type": "code",
   "execution_count": 27,
   "id": "a5f9c3da",
   "metadata": {},
   "outputs": [
    {
     "data": {
      "text/plain": [
       "<AxesSubplot:>"
      ]
     },
     "execution_count": 27,
     "metadata": {},
     "output_type": "execute_result"
    },
    {
     "data": {
      "image/png": "[encoded data removed]",
      "text/plain": [
       "<Figure size 864x360 with 1 Axes>"
      ]
     },
     "metadata": {
      "needs_background": "light"
     },
     "output_type": "display_data"
    }
   ],
   "source": [
    "test_vs_pred.plot(figsize=(12,5))\n"
   ]
  },
  {
   "cell_type": "code",
   "execution_count": 28,
   "id": "41b93023",
   "metadata": {},
   "outputs": [
    {
     "name": "stdout",
     "output_type": "stream",
     "text": [
      "Mean value of cX is : 215.08333333333334. Root Mean Squared Error is :23.43142792753098\n",
      "Mean value of cY is : 256. Root Mean Squared Error is :15.614408413441664\n"
     ]
    }
   ],
   "source": [
    "from sklearn.metrics import mean_squared_error\n",
    "import math \n",
    "from statistics import mean\n",
    "\n",
    "rmse_cX=math.sqrt(mean_squared_error(predictions['cX_predicted'],test_df['cX']))\n",
    "print('Mean value of cX is : {}. Root Mean Squared Error is :{}'.format(mean(test_df['cX']),rmse_cX))\n",
    "\n",
    "rmse_cY=math.sqrt(mean_squared_error(predictions['cY_predicted'],test_df['cY']))\n",
    "print('Mean value of cY is : {}. Root Mean Squared Error is :{}'.format(mean(test_df['cY']),rmse_cY))"
   ]
  },
  {
   "cell_type": "markdown",
   "id": "f8824a9f",
   "metadata": {},
   "source": [
    "<h1> Prediction Of Y-cordinate Using AR Model </h1>\n"
   ]
  },
  {
   "cell_type": "code",
   "execution_count": 206,
   "id": "e7b58a59",
   "metadata": {},
   "outputs": [
    {
     "data": {
      "text/plain": [
       "(307, 2)"
      ]
     },
     "execution_count": 206,
     "metadata": {},
     "output_type": "execute_result"
    }
   ],
   "source": [
    "df = pd.DataFrame(d)\n",
    "df.shape\n"
   ]
  },
  {
   "cell_type": "code",
   "execution_count": 207,
   "id": "e830f26d",
   "metadata": {},
   "outputs": [
    {
     "data": {
      "text/plain": [
       "(307, 2)"
      ]
     },
     "execution_count": 207,
     "metadata": {},
     "output_type": "execute_result"
    }
   ],
   "source": [
    "df = pd.DataFrame(d)\n",
    "df.shape\n"
   ]
  },
  {
   "cell_type": "code",
   "execution_count": 208,
   "id": "c8588e36",
   "metadata": {},
   "outputs": [
    {
     "data": {
      "text/html": [
       "<div>\n",
       "<style scoped>\n",
       "    .dataframe tbody tr th:only-of-type {\n",
       "        vertical-align: middle;\n",
       "    }\n",
       "\n",
       "    .dataframe tbody tr th {\n",
       "        vertical-align: top;\n",
       "    }\n",
       "\n",
       "    .dataframe thead th {\n",
       "        text-align: right;\n",
       "    }\n",
       "</style>\n",
       "<table border=\"1\" class=\"dataframe\">\n",
       "  <thead>\n",
       "    <tr style=\"text-align: right;\">\n",
       "      <th></th>\n",
       "      <th>cX</th>\n",
       "      <th>cY</th>\n",
       "    </tr>\n",
       "  </thead>\n",
       "  <tbody>\n",
       "    <tr>\n",
       "      <th>0</th>\n",
       "      <td>623</td>\n",
       "      <td>342</td>\n",
       "    </tr>\n",
       "    <tr>\n",
       "      <th>1</th>\n",
       "      <td>624</td>\n",
       "      <td>343</td>\n",
       "    </tr>\n",
       "    <tr>\n",
       "      <th>2</th>\n",
       "      <td>624</td>\n",
       "      <td>343</td>\n",
       "    </tr>\n",
       "    <tr>\n",
       "      <th>3</th>\n",
       "      <td>624</td>\n",
       "      <td>343</td>\n",
       "    </tr>\n",
       "    <tr>\n",
       "      <th>4</th>\n",
       "      <td>624</td>\n",
       "      <td>343</td>\n",
       "    </tr>\n",
       "  </tbody>\n",
       "</table>\n",
       "</div>"
      ],
      "text/plain": [
       "    cX   cY\n",
       "0  623  342\n",
       "1  624  343\n",
       "2  624  343\n",
       "3  624  343\n",
       "4  624  343"
      ]
     },
     "execution_count": 208,
     "metadata": {},
     "output_type": "execute_result"
    }
   ],
   "source": [
    "df.head()"
   ]
  },
  {
   "cell_type": "code",
   "execution_count": 209,
   "id": "ae6dc1bf",
   "metadata": {},
   "outputs": [
    {
     "data": {
      "text/plain": [
       "[<matplotlib.lines.Line2D at 0x1dc2ac00520>]"
      ]
     },
     "execution_count": 209,
     "metadata": {},
     "output_type": "execute_result"
    },
    {
     "data": {
      "image/png": "[encoded data removed]",
      "text/plain": [
       "<Figure size 432x288 with 1 Axes>"
      ]
     },
     "metadata": {
      "needs_background": "light"
     },
     "output_type": "display_data"
    }
   ],
   "source": [
    "plt.plot(df[\"cY\"])\n"
   ]
  },
  {
   "cell_type": "code",
   "execution_count": 210,
   "id": "777d3f96",
   "metadata": {},
   "outputs": [
    {
     "name": "stdout",
     "output_type": "stream",
     "text": [
      "ADF Statistic: -3.238394\n",
      "p-value: 0.017867\n",
      "Critical Values:\n",
      "\t1%: -3.452\n",
      "\t5%: -2.871\n",
      "\t10%: -2.572\n",
      "Reject Ho - Time Series is Stationary\n"
     ]
    }
   ],
   "source": [
    "X = df[\"cY\"].values\n",
    "result = adfuller(X)\n",
    "print('ADF Statistic: %f' % result[0])\n",
    "print('p-value: %f' % result[1])\n",
    "print('Critical Values:')\n",
    "for key, value in result[4].items():\n",
    "    print('\\t%s: %.3f' % (key, value))\n",
    "\n",
    "if result[0] < result[4][\"5%\"]:\n",
    "    print (\"Reject Ho - Time Series is Stationary\")\n",
    "else:\n",
    "    print (\"Failed to Reject Ho - Time Series is Non-Stationary\")"
   ]
  },
  {
   "cell_type": "code",
   "execution_count": 212,
   "id": "f4062695",
   "metadata": {},
   "outputs": [
    {
     "data": {
      "image/png": "[encoded data removed]",
      "text/plain": [
       "<Figure size 432x288 with 1 Axes>"
      ]
     },
     "metadata": {
      "needs_background": "light"
     },
     "output_type": "display_data"
    }
   ],
   "source": [
    "plot_pacf(X, lags=25);"
   ]
  },
  {
   "cell_type": "code",
   "execution_count": 118,
   "id": "468630ae",
   "metadata": {},
   "outputs": [],
   "source": [
    "df[\"Values_shifted\"]  = df[\"cY\"].shift()\n"
   ]
  },
  {
   "cell_type": "code",
   "execution_count": 121,
   "id": "192e2d49",
   "metadata": {},
   "outputs": [],
   "source": [
    "\n",
    "df.dropna(inplace=True)"
   ]
  },
  {
   "cell_type": "code",
   "execution_count": 122,
   "id": "31243257",
   "metadata": {},
   "outputs": [
    {
     "data": {
      "text/html": [
       "<div>\n",
       "<style scoped>\n",
       "    .dataframe tbody tr th:only-of-type {\n",
       "        vertical-align: middle;\n",
       "    }\n",
       "\n",
       "    .dataframe tbody tr th {\n",
       "        vertical-align: top;\n",
       "    }\n",
       "\n",
       "    .dataframe thead th {\n",
       "        text-align: right;\n",
       "    }\n",
       "</style>\n",
       "<table border=\"1\" class=\"dataframe\">\n",
       "  <thead>\n",
       "    <tr style=\"text-align: right;\">\n",
       "      <th></th>\n",
       "      <th>cX</th>\n",
       "      <th>cY</th>\n",
       "      <th>Values_shifted</th>\n",
       "    </tr>\n",
       "  </thead>\n",
       "  <tbody>\n",
       "    <tr>\n",
       "      <th>1</th>\n",
       "      <td>624</td>\n",
       "      <td>343</td>\n",
       "      <td>342.0</td>\n",
       "    </tr>\n",
       "    <tr>\n",
       "      <th>2</th>\n",
       "      <td>624</td>\n",
       "      <td>343</td>\n",
       "      <td>343.0</td>\n",
       "    </tr>\n",
       "    <tr>\n",
       "      <th>3</th>\n",
       "      <td>624</td>\n",
       "      <td>343</td>\n",
       "      <td>343.0</td>\n",
       "    </tr>\n",
       "    <tr>\n",
       "      <th>4</th>\n",
       "      <td>624</td>\n",
       "      <td>343</td>\n",
       "      <td>343.0</td>\n",
       "    </tr>\n",
       "    <tr>\n",
       "      <th>5</th>\n",
       "      <td>616</td>\n",
       "      <td>341</td>\n",
       "      <td>343.0</td>\n",
       "    </tr>\n",
       "  </tbody>\n",
       "</table>\n",
       "</div>"
      ],
      "text/plain": [
       "    cX   cY  Values_shifted\n",
       "1  624  343           342.0\n",
       "2  624  343           343.0\n",
       "3  624  343           343.0\n",
       "4  624  343           343.0\n",
       "5  616  341           343.0"
      ]
     },
     "execution_count": 122,
     "metadata": {},
     "output_type": "execute_result"
    }
   ],
   "source": [
    "df.head()"
   ]
  },
  {
   "cell_type": "code",
   "execution_count": 124,
   "id": "968de3c3",
   "metadata": {},
   "outputs": [],
   "source": [
    "y = df.cY.values\n",
    "X = df.Values_shifted.values"
   ]
  },
  {
   "cell_type": "code",
   "execution_count": 125,
   "id": "fb727f51",
   "metadata": {},
   "outputs": [],
   "source": [
    "train_size = int(len(X) * 0.80)"
   ]
  },
  {
   "cell_type": "code",
   "execution_count": 213,
   "id": "3b70c6f7",
   "metadata": {},
   "outputs": [],
   "source": [
    "X_train, X_test = X[0:train_size], X[train_size:len(X)]\n",
    "y_train, y_test = y[0:train_size], y[train_size:len(X)]"
   ]
  },
  {
   "cell_type": "code",
   "execution_count": 214,
   "id": "8ccbf37e",
   "metadata": {},
   "outputs": [],
   "source": [
    "X_train = X_train.reshape(-1,1)\n",
    "X_test = X_test.reshape(-1,1)"
   ]
  },
  {
   "cell_type": "code",
   "execution_count": 215,
   "id": "8f26d8c7",
   "metadata": {},
   "outputs": [],
   "source": [
    "import pandas as pd\n",
    "import numpy as np\n",
    "import matplotlib.pyplot as plt\n",
    "import statsmodels.api as sm\n",
    "from statsmodels.tsa.stattools import adfuller\n",
    "from statsmodels.graphics.tsaplots import plot_pacf\n",
    "from sklearn.linear_model import LinearRegression\n",
    "from sklearn.metrics import mean_squared_error\n",
    "from statsmodels.tsa.arima_model import AutoReg"
   ]
  },
  {
   "cell_type": "code",
   "execution_count": 227,
   "id": "8b71e24d",
   "metadata": {
    "scrolled": false
   },
   "outputs": [],
   "source": [
    "model= AutoReg(X_train,lags =25).fit()"
   ]
  },
  {
   "cell_type": "code",
   "execution_count": 228,
   "id": "aa30e480",
   "metadata": {
    "scrolled": true
   },
   "outputs": [
    {
     "data": {
      "text/html": [
       "<table class=\"simpletable\">\n",
       "<caption>AutoReg Model Results</caption>\n",
       "<tr>\n",
       "  <th>Dep. Variable:</th>         <td>y</td>        <th>  No. Observations:  </th>    <td>244</td>  \n",
       "</tr>\n",
       "<tr>\n",
       "  <th>Model:</th>            <td>AutoReg(25)</td>   <th>  Log Likelihood     </th> <td>-489.359</td>\n",
       "</tr>\n",
       "<tr>\n",
       "  <th>Method:</th>         <td>Conditional MLE</td> <th>  S.D. of innovations</th>   <td>2.260</td> \n",
       "</tr>\n",
       "<tr>\n",
       "  <th>Date:</th>          <td>Thu, 25 Nov 2021</td> <th>  AIC                </th>   <td>1.878</td> \n",
       "</tr>\n",
       "<tr>\n",
       "  <th>Time:</th>              <td>14:35:00</td>     <th>  BIC                </th>   <td>2.296</td> \n",
       "</tr>\n",
       "<tr>\n",
       "  <th>Sample:</th>               <td>25</td>        <th>  HQIC               </th>   <td>2.046</td> \n",
       "</tr>\n",
       "<tr>\n",
       "  <th></th>                      <td>244</td>       <th>                     </th>     <td> </td>   \n",
       "</tr>\n",
       "</table>\n",
       "<table class=\"simpletable\">\n",
       "<tr>\n",
       "      <td></td>         <th>coef</th>     <th>std err</th>      <th>z</th>      <th>P>|z|</th>  <th>[0.025</th>    <th>0.975]</th>  \n",
       "</tr>\n",
       "<tr>\n",
       "  <th>intercept</th> <td>    4.7834</td> <td>    2.245</td> <td>    2.131</td> <td> 0.033</td> <td>    0.383</td> <td>    9.184</td>\n",
       "</tr>\n",
       "<tr>\n",
       "  <th>y.L1</th>      <td>    0.9058</td> <td>    0.068</td> <td>   13.407</td> <td> 0.000</td> <td>    0.773</td> <td>    1.038</td>\n",
       "</tr>\n",
       "<tr>\n",
       "  <th>y.L2</th>      <td>   -0.2024</td> <td>    0.091</td> <td>   -2.230</td> <td> 0.026</td> <td>   -0.380</td> <td>   -0.025</td>\n",
       "</tr>\n",
       "<tr>\n",
       "  <th>y.L3</th>      <td>    0.2320</td> <td>    0.092</td> <td>    2.528</td> <td> 0.011</td> <td>    0.052</td> <td>    0.412</td>\n",
       "</tr>\n",
       "<tr>\n",
       "  <th>y.L4</th>      <td>    0.0119</td> <td>    0.093</td> <td>    0.127</td> <td> 0.899</td> <td>   -0.171</td> <td>    0.195</td>\n",
       "</tr>\n",
       "<tr>\n",
       "  <th>y.L5</th>      <td>    0.1004</td> <td>    0.093</td> <td>    1.080</td> <td> 0.280</td> <td>   -0.082</td> <td>    0.283</td>\n",
       "</tr>\n",
       "<tr>\n",
       "  <th>y.L6</th>      <td>   -0.0678</td> <td>    0.093</td> <td>   -0.730</td> <td> 0.465</td> <td>   -0.250</td> <td>    0.114</td>\n",
       "</tr>\n",
       "<tr>\n",
       "  <th>y.L7</th>      <td>    0.0539</td> <td>    0.093</td> <td>    0.579</td> <td> 0.562</td> <td>   -0.129</td> <td>    0.237</td>\n",
       "</tr>\n",
       "<tr>\n",
       "  <th>y.L8</th>      <td>   -0.0420</td> <td>    0.093</td> <td>   -0.450</td> <td> 0.653</td> <td>   -0.225</td> <td>    0.141</td>\n",
       "</tr>\n",
       "<tr>\n",
       "  <th>y.L9</th>      <td>   -0.0201</td> <td>    0.094</td> <td>   -0.215</td> <td> 0.830</td> <td>   -0.204</td> <td>    0.163</td>\n",
       "</tr>\n",
       "<tr>\n",
       "  <th>y.L10</th>     <td>   -0.0158</td> <td>    0.094</td> <td>   -0.169</td> <td> 0.866</td> <td>   -0.200</td> <td>    0.168</td>\n",
       "</tr>\n",
       "<tr>\n",
       "  <th>y.L11</th>     <td>    0.0344</td> <td>    0.094</td> <td>    0.368</td> <td> 0.713</td> <td>   -0.149</td> <td>    0.218</td>\n",
       "</tr>\n",
       "<tr>\n",
       "  <th>y.L12</th>     <td>    0.0890</td> <td>    0.094</td> <td>    0.952</td> <td> 0.341</td> <td>   -0.094</td> <td>    0.272</td>\n",
       "</tr>\n",
       "<tr>\n",
       "  <th>y.L13</th>     <td>    0.0362</td> <td>    0.094</td> <td>    0.386</td> <td> 0.699</td> <td>   -0.147</td> <td>    0.220</td>\n",
       "</tr>\n",
       "<tr>\n",
       "  <th>y.L14</th>     <td>   -0.0727</td> <td>    0.093</td> <td>   -0.780</td> <td> 0.435</td> <td>   -0.256</td> <td>    0.110</td>\n",
       "</tr>\n",
       "<tr>\n",
       "  <th>y.L15</th>     <td>   -0.1208</td> <td>    0.090</td> <td>   -1.347</td> <td> 0.178</td> <td>   -0.297</td> <td>    0.055</td>\n",
       "</tr>\n",
       "<tr>\n",
       "  <th>y.L16</th>     <td>    0.0230</td> <td>    0.086</td> <td>    0.268</td> <td> 0.789</td> <td>   -0.146</td> <td>    0.192</td>\n",
       "</tr>\n",
       "<tr>\n",
       "  <th>y.L17</th>     <td>    0.0332</td> <td>    0.086</td> <td>    0.387</td> <td> 0.699</td> <td>   -0.135</td> <td>    0.202</td>\n",
       "</tr>\n",
       "<tr>\n",
       "  <th>y.L18</th>     <td>   -0.0103</td> <td>    0.085</td> <td>   -0.120</td> <td> 0.904</td> <td>   -0.178</td> <td>    0.157</td>\n",
       "</tr>\n",
       "<tr>\n",
       "  <th>y.L19</th>     <td>   -0.0221</td> <td>    0.085</td> <td>   -0.259</td> <td> 0.796</td> <td>   -0.189</td> <td>    0.145</td>\n",
       "</tr>\n",
       "<tr>\n",
       "  <th>y.L20</th>     <td>    0.1306</td> <td>    0.085</td> <td>    1.536</td> <td> 0.125</td> <td>   -0.036</td> <td>    0.297</td>\n",
       "</tr>\n",
       "<tr>\n",
       "  <th>y.L21</th>     <td>   -0.0797</td> <td>    0.085</td> <td>   -0.938</td> <td> 0.348</td> <td>   -0.246</td> <td>    0.087</td>\n",
       "</tr>\n",
       "<tr>\n",
       "  <th>y.L22</th>     <td>    0.0155</td> <td>    0.085</td> <td>    0.182</td> <td> 0.856</td> <td>   -0.151</td> <td>    0.182</td>\n",
       "</tr>\n",
       "<tr>\n",
       "  <th>y.L23</th>     <td>    0.0452</td> <td>    0.084</td> <td>    0.537</td> <td> 0.591</td> <td>   -0.120</td> <td>    0.210</td>\n",
       "</tr>\n",
       "<tr>\n",
       "  <th>y.L24</th>     <td>   -0.0979</td> <td>    0.084</td> <td>   -1.170</td> <td> 0.242</td> <td>   -0.262</td> <td>    0.066</td>\n",
       "</tr>\n",
       "<tr>\n",
       "  <th>y.L25</th>     <td>    0.0223</td> <td>    0.061</td> <td>    0.363</td> <td> 0.717</td> <td>   -0.098</td> <td>    0.143</td>\n",
       "</tr>\n",
       "</table>\n",
       "<table class=\"simpletable\">\n",
       "<caption>Roots</caption>\n",
       "<tr>\n",
       "    <td></td>    <th>            Real</th>  <th>         Imaginary</th> <th>         Modulus</th>  <th>        Frequency</th>\n",
       "</tr>\n",
       "<tr>\n",
       "  <th>AR.1</th>  <td>          -1.1768</td> <td>          -0.1143j</td> <td>           1.1823</td> <td>          -0.4846</td>\n",
       "</tr>\n",
       "<tr>\n",
       "  <th>AR.2</th>  <td>          -1.1768</td> <td>          +0.1143j</td> <td>           1.1823</td> <td>           0.4846</td>\n",
       "</tr>\n",
       "<tr>\n",
       "  <th>AR.3</th>  <td>          -1.0254</td> <td>          -0.4120j</td> <td>           1.1051</td> <td>          -0.4392</td>\n",
       "</tr>\n",
       "<tr>\n",
       "  <th>AR.4</th>  <td>          -1.0254</td> <td>          +0.4120j</td> <td>           1.1051</td> <td>           0.4392</td>\n",
       "</tr>\n",
       "<tr>\n",
       "  <th>AR.5</th>  <td>          -0.8569</td> <td>          -0.6637j</td> <td>           1.0839</td> <td>          -0.3951</td>\n",
       "</tr>\n",
       "<tr>\n",
       "  <th>AR.6</th>  <td>          -0.8569</td> <td>          +0.6637j</td> <td>           1.0839</td> <td>           0.3951</td>\n",
       "</tr>\n",
       "<tr>\n",
       "  <th>AR.7</th>  <td>          -0.6322</td> <td>          -0.8712j</td> <td>           1.0764</td> <td>          -0.3499</td>\n",
       "</tr>\n",
       "<tr>\n",
       "  <th>AR.8</th>  <td>          -0.6322</td> <td>          +0.8712j</td> <td>           1.0764</td> <td>           0.3499</td>\n",
       "</tr>\n",
       "<tr>\n",
       "  <th>AR.9</th>  <td>          -0.3386</td> <td>          -1.0149j</td> <td>           1.0699</td> <td>          -0.3013</td>\n",
       "</tr>\n",
       "<tr>\n",
       "  <th>AR.10</th> <td>          -0.3386</td> <td>          +1.0149j</td> <td>           1.0699</td> <td>           0.3013</td>\n",
       "</tr>\n",
       "<tr>\n",
       "  <th>AR.11</th> <td>          -0.0229</td> <td>          -1.1648j</td> <td>           1.1651</td> <td>          -0.2531</td>\n",
       "</tr>\n",
       "<tr>\n",
       "  <th>AR.12</th> <td>          -0.0229</td> <td>          +1.1648j</td> <td>           1.1651</td> <td>           0.2531</td>\n",
       "</tr>\n",
       "<tr>\n",
       "  <th>AR.13</th> <td>           0.1278</td> <td>          -1.0959j</td> <td>           1.1033</td> <td>          -0.2315</td>\n",
       "</tr>\n",
       "<tr>\n",
       "  <th>AR.14</th> <td>           0.1278</td> <td>          +1.0959j</td> <td>           1.1033</td> <td>           0.2315</td>\n",
       "</tr>\n",
       "<tr>\n",
       "  <th>AR.15</th> <td>           0.5270</td> <td>          -1.0237j</td> <td>           1.1514</td> <td>          -0.1743</td>\n",
       "</tr>\n",
       "<tr>\n",
       "  <th>AR.16</th> <td>           0.5270</td> <td>          +1.0237j</td> <td>           1.1514</td> <td>           0.1743</td>\n",
       "</tr>\n",
       "<tr>\n",
       "  <th>AR.17</th> <td>           0.6248</td> <td>          -0.9029j</td> <td>           1.0980</td> <td>          -0.1537</td>\n",
       "</tr>\n",
       "<tr>\n",
       "  <th>AR.18</th> <td>           0.6248</td> <td>          +0.9029j</td> <td>           1.0980</td> <td>           0.1537</td>\n",
       "</tr>\n",
       "<tr>\n",
       "  <th>AR.19</th> <td>           0.9043</td> <td>          -0.5891j</td> <td>           1.0793</td> <td>          -0.0919</td>\n",
       "</tr>\n",
       "<tr>\n",
       "  <th>AR.20</th> <td>           0.9043</td> <td>          +0.5891j</td> <td>           1.0793</td> <td>           0.0919</td>\n",
       "</tr>\n",
       "<tr>\n",
       "  <th>AR.21</th> <td>           1.0213</td> <td>          -0.0000j</td> <td>           1.0213</td> <td>          -0.0000</td>\n",
       "</tr>\n",
       "<tr>\n",
       "  <th>AR.22</th> <td>           1.0729</td> <td>          -0.0000j</td> <td>           1.0729</td> <td>          -0.0000</td>\n",
       "</tr>\n",
       "<tr>\n",
       "  <th>AR.23</th> <td>           1.0895</td> <td>          -0.3320j</td> <td>           1.1390</td> <td>          -0.0471</td>\n",
       "</tr>\n",
       "<tr>\n",
       "  <th>AR.24</th> <td>           1.0895</td> <td>          +0.3320j</td> <td>           1.1390</td> <td>           0.0471</td>\n",
       "</tr>\n",
       "<tr>\n",
       "  <th>AR.25</th> <td>           3.8604</td> <td>          -0.0000j</td> <td>           3.8604</td> <td>          -0.0000</td>\n",
       "</tr>\n",
       "</table>"
      ],
      "text/plain": [
       "<class 'statsmodels.iolib.summary.Summary'>\n",
       "\"\"\"\n",
       "                            AutoReg Model Results                             \n",
       "==============================================================================\n",
       "Dep. Variable:                      y   No. Observations:                  244\n",
       "Model:                    AutoReg(25)   Log Likelihood                -489.359\n",
       "Method:               Conditional MLE   S.D. of innovations              2.260\n",
       "Date:                Thu, 25 Nov 2021   AIC                              1.878\n",
       "Time:                        14:35:00   BIC                              2.296\n",
       "Sample:                            25   HQIC                             2.046\n",
       "                                  244                                         \n",
       "==============================================================================\n",
       "                 coef    std err          z      P>|z|      [0.025      0.975]\n",
       "------------------------------------------------------------------------------\n",
       "intercept      4.7834      2.245      2.131      0.033       0.383       9.184\n",
       "y.L1           0.9058      0.068     13.407      0.000       0.773       1.038\n",
       "y.L2          -0.2024      0.091     -2.230      0.026      -0.380      -0.025\n",
       "y.L3           0.2320      0.092      2.528      0.011       0.052       0.412\n",
       "y.L4           0.0119      0.093      0.127      0.899      -0.171       0.195\n",
       "y.L5           0.1004      0.093      1.080      0.280      -0.082       0.283\n",
       "y.L6          -0.0678      0.093     -0.730      0.465      -0.250       0.114\n",
       "y.L7           0.0539      0.093      0.579      0.562      -0.129       0.237\n",
       "y.L8          -0.0420      0.093     -0.450      0.653      -0.225       0.141\n",
       "y.L9          -0.0201      0.094     -0.215      0.830      -0.204       0.163\n",
       "y.L10         -0.0158      0.094     -0.169      0.866      -0.200       0.168\n",
       "y.L11          0.0344      0.094      0.368      0.713      -0.149       0.218\n",
       "y.L12          0.0890      0.094      0.952      0.341      -0.094       0.272\n",
       "y.L13          0.0362      0.094      0.386      0.699      -0.147       0.220\n",
       "y.L14         -0.0727      0.093     -0.780      0.435      -0.256       0.110\n",
       "y.L15         -0.1208      0.090     -1.347      0.178      -0.297       0.055\n",
       "y.L16          0.0230      0.086      0.268      0.789      -0.146       0.192\n",
       "y.L17          0.0332      0.086      0.387      0.699      -0.135       0.202\n",
       "y.L18         -0.0103      0.085     -0.120      0.904      -0.178       0.157\n",
       "y.L19         -0.0221      0.085     -0.259      0.796      -0.189       0.145\n",
       "y.L20          0.1306      0.085      1.536      0.125      -0.036       0.297\n",
       "y.L21         -0.0797      0.085     -0.938      0.348      -0.246       0.087\n",
       "y.L22          0.0155      0.085      0.182      0.856      -0.151       0.182\n",
       "y.L23          0.0452      0.084      0.537      0.591      -0.120       0.210\n",
       "y.L24         -0.0979      0.084     -1.170      0.242      -0.262       0.066\n",
       "y.L25          0.0223      0.061      0.363      0.717      -0.098       0.143\n",
       "                                    Roots                                     \n",
       "==============================================================================\n",
       "                   Real          Imaginary           Modulus         Frequency\n",
       "------------------------------------------------------------------------------\n",
       "AR.1            -1.1768           -0.1143j            1.1823           -0.4846\n",
       "AR.2            -1.1768           +0.1143j            1.1823            0.4846\n",
       "AR.3            -1.0254           -0.4120j            1.1051           -0.4392\n",
       "AR.4            -1.0254           +0.4120j            1.1051            0.4392\n",
       "AR.5            -0.8569           -0.6637j            1.0839           -0.3951\n",
       "AR.6            -0.8569           +0.6637j            1.0839            0.3951\n",
       "AR.7            -0.6322           -0.8712j            1.0764           -0.3499\n",
       "AR.8            -0.6322           +0.8712j            1.0764            0.3499\n",
       "AR.9            -0.3386           -1.0149j            1.0699           -0.3013\n",
       "AR.10           -0.3386           +1.0149j            1.0699            0.3013\n",
       "AR.11           -0.0229           -1.1648j            1.1651           -0.2531\n",
       "AR.12           -0.0229           +1.1648j            1.1651            0.2531\n",
       "AR.13            0.1278           -1.0959j            1.1033           -0.2315\n",
       "AR.14            0.1278           +1.0959j            1.1033            0.2315\n",
       "AR.15            0.5270           -1.0237j            1.1514           -0.1743\n",
       "AR.16            0.5270           +1.0237j            1.1514            0.1743\n",
       "AR.17            0.6248           -0.9029j            1.0980           -0.1537\n",
       "AR.18            0.6248           +0.9029j            1.0980            0.1537\n",
       "AR.19            0.9043           -0.5891j            1.0793           -0.0919\n",
       "AR.20            0.9043           +0.5891j            1.0793            0.0919\n",
       "AR.21            1.0213           -0.0000j            1.0213           -0.0000\n",
       "AR.22            1.0729           -0.0000j            1.0729           -0.0000\n",
       "AR.23            1.0895           -0.3320j            1.1390           -0.0471\n",
       "AR.24            1.0895           +0.3320j            1.1390            0.0471\n",
       "AR.25            3.8604           -0.0000j            3.8604           -0.0000\n",
       "------------------------------------------------------------------------------\n",
       "\"\"\""
      ]
     },
     "execution_count": 228,
     "metadata": {},
     "output_type": "execute_result"
    }
   ],
   "source": [
    "model.summary()"
   ]
  },
  {
   "cell_type": "code",
   "execution_count": 260,
   "id": "e27c2590",
   "metadata": {},
   "outputs": [],
   "source": [
    "pred = model.predict(start = len(X_test)+20,end = len(X)-100,dynamic =False)"
   ]
  },
  {
   "cell_type": "code",
   "execution_count": 261,
   "id": "225a1afb",
   "metadata": {},
   "outputs": [
    {
     "data": {
      "text/plain": [
       "[<matplotlib.lines.Line2D at 0x1dc2b3c7c70>]"
      ]
     },
     "execution_count": 261,
     "metadata": {},
     "output_type": "execute_result"
    },
    {
     "data": {
      "image/png": "[encoded data removed]",
      "text/plain": [
       "<Figure size 432x288 with 1 Axes>"
      ]
     },
     "metadata": {
      "needs_background": "light"
     },
     "output_type": "display_data"
    }
   ],
   "source": [
    "from matplotlib import pyplot\n",
    "pyplot.plot(pred)\n",
    "pyplot.plot(X_test,color='red')"
   ]
  },
  {
   "cell_type": "code",
   "execution_count": null,
   "id": "c7e322d6",
   "metadata": {},
   "outputs": [],
   "source": []
  },
  {
   "cell_type": "markdown",
   "id": "2648d068",
   "metadata": {},
   "source": [
    "<h1> Prediction Of X-cordinate Using AR Model </h1>\n"
   ]
  },
  {
   "cell_type": "code",
   "execution_count": 262,
   "id": "4f34b387",
   "metadata": {},
   "outputs": [
    {
     "data": {
      "text/plain": [
       "(307, 2)"
      ]
     },
     "execution_count": 262,
     "metadata": {},
     "output_type": "execute_result"
    }
   ],
   "source": [
    "df = pd.DataFrame(d)\n",
    "df.shape\n"
   ]
  },
  {
   "cell_type": "code",
   "execution_count": 263,
   "id": "6665a4f0",
   "metadata": {},
   "outputs": [
    {
     "data": {
      "text/html": [
       "<div>\n",
       "<style scoped>\n",
       "    .dataframe tbody tr th:only-of-type {\n",
       "        vertical-align: middle;\n",
       "    }\n",
       "\n",
       "    .dataframe tbody tr th {\n",
       "        vertical-align: top;\n",
       "    }\n",
       "\n",
       "    .dataframe thead th {\n",
       "        text-align: right;\n",
       "    }\n",
       "</style>\n",
       "<table border=\"1\" class=\"dataframe\">\n",
       "  <thead>\n",
       "    <tr style=\"text-align: right;\">\n",
       "      <th></th>\n",
       "      <th>cX</th>\n",
       "      <th>cY</th>\n",
       "    </tr>\n",
       "  </thead>\n",
       "  <tbody>\n",
       "    <tr>\n",
       "      <th>0</th>\n",
       "      <td>623</td>\n",
       "      <td>342</td>\n",
       "    </tr>\n",
       "    <tr>\n",
       "      <th>1</th>\n",
       "      <td>624</td>\n",
       "      <td>343</td>\n",
       "    </tr>\n",
       "    <tr>\n",
       "      <th>2</th>\n",
       "      <td>624</td>\n",
       "      <td>343</td>\n",
       "    </tr>\n",
       "    <tr>\n",
       "      <th>3</th>\n",
       "      <td>624</td>\n",
       "      <td>343</td>\n",
       "    </tr>\n",
       "    <tr>\n",
       "      <th>4</th>\n",
       "      <td>624</td>\n",
       "      <td>343</td>\n",
       "    </tr>\n",
       "  </tbody>\n",
       "</table>\n",
       "</div>"
      ],
      "text/plain": [
       "    cX   cY\n",
       "0  623  342\n",
       "1  624  343\n",
       "2  624  343\n",
       "3  624  343\n",
       "4  624  343"
      ]
     },
     "execution_count": 263,
     "metadata": {},
     "output_type": "execute_result"
    }
   ],
   "source": [
    "df.head()"
   ]
  },
  {
   "cell_type": "code",
   "execution_count": 264,
   "id": "fc5cd34c",
   "metadata": {},
   "outputs": [
    {
     "data": {
      "text/plain": [
       "[<matplotlib.lines.Line2D at 0x1dc2ade7fd0>]"
      ]
     },
     "execution_count": 264,
     "metadata": {},
     "output_type": "execute_result"
    },
    {
     "data": {
      "image/png": "[encoded data removed]",
      "text/plain": [
       "<Figure size 432x288 with 1 Axes>"
      ]
     },
     "metadata": {
      "needs_background": "light"
     },
     "output_type": "display_data"
    }
   ],
   "source": [
    "plt.plot(df[\"cX\"])"
   ]
  },
  {
   "cell_type": "code",
   "execution_count": 265,
   "id": "38bd4439",
   "metadata": {},
   "outputs": [
    {
     "name": "stdout",
     "output_type": "stream",
     "text": [
      "ADF Statistic: 0.044018\n",
      "p-value: 0.962024\n",
      "Critical Values:\n",
      "\t1%: -3.453\n",
      "\t5%: -2.872\n",
      "\t10%: -2.572\n",
      "Failed to Reject Ho - Time Series is Non-Stationary\n"
     ]
    }
   ],
   "source": [
    "X = df[\"cX\"].values\n",
    "result = adfuller(X)\n",
    "print('ADF Statistic: %f' % result[0])\n",
    "print('p-value: %f' % result[1])\n",
    "print('Critical Values:')\n",
    "for key, value in result[4].items():\n",
    "    print('\\t%s: %.3f' % (key, value))\n",
    "\n",
    "if result[0] < result[4][\"5%\"]:\n",
    "    print (\"Reject Ho - Time Series is Stationary\")\n",
    "else:\n",
    "    print (\"Failed to Reject Ho - Time Series is Non-Stationary\")"
   ]
  },
  {
   "cell_type": "code",
   "execution_count": 267,
   "id": "a3be3a83",
   "metadata": {},
   "outputs": [
    {
     "data": {
      "image/png": "[encoded data removed]",
      "text/plain": [
       "<Figure size 432x288 with 1 Axes>"
      ]
     },
     "execution_count": 267,
     "metadata": {},
     "output_type": "execute_result"
    },
    {
     "data": {
      "image/png": "[encoded data removed]",
      "text/plain": [
       "<Figure size 432x288 with 1 Axes>"
      ]
     },
     "metadata": {
      "needs_background": "light"
     },
     "output_type": "display_data"
    }
   ],
   "source": [
    "plot_pacf(X, lags=25)\n"
   ]
  },
  {
   "cell_type": "code",
   "execution_count": 268,
   "id": "1ecc2127",
   "metadata": {},
   "outputs": [],
   "source": [
    "df[\"cX_shifted\"]  = df[\"cX\"].shift()\n"
   ]
  },
  {
   "cell_type": "code",
   "execution_count": 272,
   "id": "517803fa",
   "metadata": {},
   "outputs": [
    {
     "data": {
      "text/html": [
       "<div>\n",
       "<style scoped>\n",
       "    .dataframe tbody tr th:only-of-type {\n",
       "        vertical-align: middle;\n",
       "    }\n",
       "\n",
       "    .dataframe tbody tr th {\n",
       "        vertical-align: top;\n",
       "    }\n",
       "\n",
       "    .dataframe thead th {\n",
       "        text-align: right;\n",
       "    }\n",
       "</style>\n",
       "<table border=\"1\" class=\"dataframe\">\n",
       "  <thead>\n",
       "    <tr style=\"text-align: right;\">\n",
       "      <th></th>\n",
       "      <th>cX</th>\n",
       "      <th>cY</th>\n",
       "      <th>cX_shifted</th>\n",
       "    </tr>\n",
       "  </thead>\n",
       "  <tbody>\n",
       "    <tr>\n",
       "      <th>1</th>\n",
       "      <td>624</td>\n",
       "      <td>343</td>\n",
       "      <td>623.0</td>\n",
       "    </tr>\n",
       "    <tr>\n",
       "      <th>2</th>\n",
       "      <td>624</td>\n",
       "      <td>343</td>\n",
       "      <td>624.0</td>\n",
       "    </tr>\n",
       "    <tr>\n",
       "      <th>3</th>\n",
       "      <td>624</td>\n",
       "      <td>343</td>\n",
       "      <td>624.0</td>\n",
       "    </tr>\n",
       "    <tr>\n",
       "      <th>4</th>\n",
       "      <td>624</td>\n",
       "      <td>343</td>\n",
       "      <td>624.0</td>\n",
       "    </tr>\n",
       "    <tr>\n",
       "      <th>5</th>\n",
       "      <td>616</td>\n",
       "      <td>341</td>\n",
       "      <td>624.0</td>\n",
       "    </tr>\n",
       "  </tbody>\n",
       "</table>\n",
       "</div>"
      ],
      "text/plain": [
       "    cX   cY  cX_shifted\n",
       "1  624  343       623.0\n",
       "2  624  343       624.0\n",
       "3  624  343       624.0\n",
       "4  624  343       624.0\n",
       "5  616  341       624.0"
      ]
     },
     "execution_count": 272,
     "metadata": {},
     "output_type": "execute_result"
    }
   ],
   "source": [
    "df.head()"
   ]
  },
  {
   "cell_type": "code",
   "execution_count": 271,
   "id": "34b3c04f",
   "metadata": {},
   "outputs": [],
   "source": [
    "df.dropna (inplace=True)"
   ]
  },
  {
   "cell_type": "code",
   "execution_count": 273,
   "id": "3e230061",
   "metadata": {},
   "outputs": [],
   "source": [
    "y = df.cX.values\n",
    "X = df.cX_shifted.values\n"
   ]
  },
  {
   "cell_type": "code",
   "execution_count": 274,
   "id": "f6e16b54",
   "metadata": {},
   "outputs": [],
   "source": [
    "train_size = int(len(X) * 0.80)"
   ]
  },
  {
   "cell_type": "code",
   "execution_count": 275,
   "id": "f33ad7e5",
   "metadata": {},
   "outputs": [],
   "source": [
    "X_train, X_test = X[0:train_size], X[train_size:len(X)]\n",
    "y_train, y_test = y[0:train_size], y[train_size:len(X)]"
   ]
  },
  {
   "cell_type": "code",
   "execution_count": 276,
   "id": "352aefc0",
   "metadata": {},
   "outputs": [],
   "source": [
    "X_train = X_train.reshape(-1,1)\n",
    "X_test = X_test.reshape(-1,1)"
   ]
  },
  {
   "cell_type": "code",
   "execution_count": 279,
   "id": "0bbd7b3d",
   "metadata": {},
   "outputs": [],
   "source": [
    "pred = model.predict(start = len(X_test)+20,end = len(X)-100,dynamic =False)"
   ]
  },
  {
   "cell_type": "code",
   "execution_count": 278,
   "id": "89ce984d",
   "metadata": {},
   "outputs": [],
   "source": [
    "model= AutoReg(X_train,lags =25).fit()"
   ]
  },
  {
   "cell_type": "code",
   "execution_count": 280,
   "id": "3b3c63d7",
   "metadata": {
    "scrolled": true
   },
   "outputs": [
    {
     "data": {
      "text/html": [
       "<table class=\"simpletable\">\n",
       "<caption>AutoReg Model Results</caption>\n",
       "<tr>\n",
       "  <th>Dep. Variable:</th>         <td>y</td>        <th>  No. Observations:  </th>    <td>244</td>  \n",
       "</tr>\n",
       "<tr>\n",
       "  <th>Model:</th>            <td>AutoReg(25)</td>   <th>  Log Likelihood     </th> <td>-495.210</td>\n",
       "</tr>\n",
       "<tr>\n",
       "  <th>Method:</th>         <td>Conditional MLE</td> <th>  S.D. of innovations</th>   <td>2.322</td> \n",
       "</tr>\n",
       "<tr>\n",
       "  <th>Date:</th>          <td>Thu, 25 Nov 2021</td> <th>  AIC                </th>   <td>1.931</td> \n",
       "</tr>\n",
       "<tr>\n",
       "  <th>Time:</th>              <td>14:47:04</td>     <th>  BIC                </th>   <td>2.349</td> \n",
       "</tr>\n",
       "<tr>\n",
       "  <th>Sample:</th>               <td>25</td>        <th>  HQIC               </th>   <td>2.100</td> \n",
       "</tr>\n",
       "<tr>\n",
       "  <th></th>                      <td>244</td>       <th>                     </th>     <td> </td>   \n",
       "</tr>\n",
       "</table>\n",
       "<table class=\"simpletable\">\n",
       "<tr>\n",
       "      <td></td>         <th>coef</th>     <th>std err</th>      <th>z</th>      <th>P>|z|</th>  <th>[0.025</th>    <th>0.975]</th>  \n",
       "</tr>\n",
       "<tr>\n",
       "  <th>intercept</th> <td>   -1.2693</td> <td>    0.955</td> <td>   -1.329</td> <td> 0.184</td> <td>   -3.141</td> <td>    0.602</td>\n",
       "</tr>\n",
       "<tr>\n",
       "  <th>y.L1</th>      <td>    0.9186</td> <td>    0.067</td> <td>   13.653</td> <td> 0.000</td> <td>    0.787</td> <td>    1.051</td>\n",
       "</tr>\n",
       "<tr>\n",
       "  <th>y.L2</th>      <td>    0.0160</td> <td>    0.091</td> <td>    0.176</td> <td> 0.860</td> <td>   -0.162</td> <td>    0.194</td>\n",
       "</tr>\n",
       "<tr>\n",
       "  <th>y.L3</th>      <td>    0.1848</td> <td>    0.091</td> <td>    2.041</td> <td> 0.041</td> <td>    0.007</td> <td>    0.362</td>\n",
       "</tr>\n",
       "<tr>\n",
       "  <th>y.L4</th>      <td>   -0.1664</td> <td>    0.091</td> <td>   -1.825</td> <td> 0.068</td> <td>   -0.345</td> <td>    0.012</td>\n",
       "</tr>\n",
       "<tr>\n",
       "  <th>y.L5</th>      <td>    0.1904</td> <td>    0.090</td> <td>    2.124</td> <td> 0.034</td> <td>    0.015</td> <td>    0.366</td>\n",
       "</tr>\n",
       "<tr>\n",
       "  <th>y.L6</th>      <td>   -0.2121</td> <td>    0.082</td> <td>   -2.579</td> <td> 0.010</td> <td>   -0.373</td> <td>   -0.051</td>\n",
       "</tr>\n",
       "<tr>\n",
       "  <th>y.L7</th>      <td>   -0.0597</td> <td>    0.077</td> <td>   -0.779</td> <td> 0.436</td> <td>   -0.210</td> <td>    0.091</td>\n",
       "</tr>\n",
       "<tr>\n",
       "  <th>y.L8</th>      <td>    0.0599</td> <td>    0.075</td> <td>    0.794</td> <td> 0.427</td> <td>   -0.088</td> <td>    0.208</td>\n",
       "</tr>\n",
       "<tr>\n",
       "  <th>y.L9</th>      <td>    0.0509</td> <td>    0.076</td> <td>    0.674</td> <td> 0.501</td> <td>   -0.097</td> <td>    0.199</td>\n",
       "</tr>\n",
       "<tr>\n",
       "  <th>y.L10</th>     <td>    0.1220</td> <td>    0.075</td> <td>    1.626</td> <td> 0.104</td> <td>   -0.025</td> <td>    0.269</td>\n",
       "</tr>\n",
       "<tr>\n",
       "  <th>y.L11</th>     <td>   -0.0910</td> <td>    0.075</td> <td>   -1.221</td> <td> 0.222</td> <td>   -0.237</td> <td>    0.055</td>\n",
       "</tr>\n",
       "<tr>\n",
       "  <th>y.L12</th>     <td>    0.0094</td> <td>    0.075</td> <td>    0.126</td> <td> 0.900</td> <td>   -0.137</td> <td>    0.156</td>\n",
       "</tr>\n",
       "<tr>\n",
       "  <th>y.L13</th>     <td>   -0.0719</td> <td>    0.075</td> <td>   -0.963</td> <td> 0.336</td> <td>   -0.218</td> <td>    0.074</td>\n",
       "</tr>\n",
       "<tr>\n",
       "  <th>y.L14</th>     <td>    0.0034</td> <td>    0.075</td> <td>    0.045</td> <td> 0.964</td> <td>   -0.143</td> <td>    0.150</td>\n",
       "</tr>\n",
       "<tr>\n",
       "  <th>y.L15</th>     <td>    0.1250</td> <td>    0.074</td> <td>    1.686</td> <td> 0.092</td> <td>   -0.020</td> <td>    0.270</td>\n",
       "</tr>\n",
       "<tr>\n",
       "  <th>y.L16</th>     <td>   -0.0616</td> <td>    0.074</td> <td>   -0.837</td> <td> 0.403</td> <td>   -0.206</td> <td>    0.083</td>\n",
       "</tr>\n",
       "<tr>\n",
       "  <th>y.L17</th>     <td>    0.0290</td> <td>    0.073</td> <td>    0.394</td> <td> 0.693</td> <td>   -0.115</td> <td>    0.173</td>\n",
       "</tr>\n",
       "<tr>\n",
       "  <th>y.L18</th>     <td>   -0.1454</td> <td>    0.073</td> <td>   -1.987</td> <td> 0.047</td> <td>   -0.289</td> <td>   -0.002</td>\n",
       "</tr>\n",
       "<tr>\n",
       "  <th>y.L19</th>     <td>   -0.0015</td> <td>    0.074</td> <td>   -0.020</td> <td> 0.984</td> <td>   -0.146</td> <td>    0.143</td>\n",
       "</tr>\n",
       "<tr>\n",
       "  <th>y.L20</th>     <td>    0.2063</td> <td>    0.073</td> <td>    2.817</td> <td> 0.005</td> <td>    0.063</td> <td>    0.350</td>\n",
       "</tr>\n",
       "<tr>\n",
       "  <th>y.L21</th>     <td>   -0.1226</td> <td>    0.075</td> <td>   -1.644</td> <td> 0.100</td> <td>   -0.269</td> <td>    0.024</td>\n",
       "</tr>\n",
       "<tr>\n",
       "  <th>y.L22</th>     <td>    0.0768</td> <td>    0.075</td> <td>    1.022</td> <td> 0.307</td> <td>   -0.071</td> <td>    0.224</td>\n",
       "</tr>\n",
       "<tr>\n",
       "  <th>y.L23</th>     <td>   -0.0606</td> <td>    0.075</td> <td>   -0.808</td> <td> 0.419</td> <td>   -0.208</td> <td>    0.086</td>\n",
       "</tr>\n",
       "<tr>\n",
       "  <th>y.L24</th>     <td>   -0.0442</td> <td>    0.074</td> <td>   -0.597</td> <td> 0.550</td> <td>   -0.189</td> <td>    0.101</td>\n",
       "</tr>\n",
       "<tr>\n",
       "  <th>y.L25</th>     <td>    0.0443</td> <td>    0.059</td> <td>    0.751</td> <td> 0.453</td> <td>   -0.071</td> <td>    0.160</td>\n",
       "</tr>\n",
       "</table>\n",
       "<table class=\"simpletable\">\n",
       "<caption>Roots</caption>\n",
       "<tr>\n",
       "    <td></td>    <th>            Real</th>  <th>         Imaginary</th> <th>         Modulus</th>  <th>        Frequency</th>\n",
       "</tr>\n",
       "<tr>\n",
       "  <th>AR.1</th>  <td>          -0.8333</td> <td>          -0.6028j</td> <td>           1.0285</td> <td>          -0.4003</td>\n",
       "</tr>\n",
       "<tr>\n",
       "  <th>AR.2</th>  <td>          -0.8333</td> <td>          +0.6028j</td> <td>           1.0285</td> <td>           0.4003</td>\n",
       "</tr>\n",
       "<tr>\n",
       "  <th>AR.3</th>  <td>          -1.0628</td> <td>          -0.3395j</td> <td>           1.1157</td> <td>          -0.4508</td>\n",
       "</tr>\n",
       "<tr>\n",
       "  <th>AR.4</th>  <td>          -1.0628</td> <td>          +0.3395j</td> <td>           1.1157</td> <td>           0.4508</td>\n",
       "</tr>\n",
       "<tr>\n",
       "  <th>AR.5</th>  <td>          -1.1396</td> <td>          -0.0000j</td> <td>           1.1396</td> <td>          -0.5000</td>\n",
       "</tr>\n",
       "<tr>\n",
       "  <th>AR.6</th>  <td>          -0.6409</td> <td>          -0.8428j</td> <td>           1.0589</td> <td>          -0.3535</td>\n",
       "</tr>\n",
       "<tr>\n",
       "  <th>AR.7</th>  <td>          -0.6409</td> <td>          +0.8428j</td> <td>           1.0589</td> <td>           0.3535</td>\n",
       "</tr>\n",
       "<tr>\n",
       "  <th>AR.8</th>  <td>          -1.6112</td> <td>          -0.0000j</td> <td>           1.6112</td> <td>          -0.5000</td>\n",
       "</tr>\n",
       "<tr>\n",
       "  <th>AR.9</th>  <td>          -0.3914</td> <td>          -1.0310j</td> <td>           1.1028</td> <td>          -0.3077</td>\n",
       "</tr>\n",
       "<tr>\n",
       "  <th>AR.10</th> <td>          -0.3914</td> <td>          +1.0310j</td> <td>           1.1028</td> <td>           0.3077</td>\n",
       "</tr>\n",
       "<tr>\n",
       "  <th>AR.11</th> <td>          -0.1134</td> <td>          -1.2322j</td> <td>           1.2374</td> <td>          -0.2646</td>\n",
       "</tr>\n",
       "<tr>\n",
       "  <th>AR.12</th> <td>          -0.1134</td> <td>          +1.2322j</td> <td>           1.2374</td> <td>           0.2646</td>\n",
       "</tr>\n",
       "<tr>\n",
       "  <th>AR.13</th> <td>           0.0606</td> <td>          -1.1225j</td> <td>           1.1241</td> <td>          -0.2414</td>\n",
       "</tr>\n",
       "<tr>\n",
       "  <th>AR.14</th> <td>           0.0606</td> <td>          +1.1225j</td> <td>           1.1241</td> <td>           0.2414</td>\n",
       "</tr>\n",
       "<tr>\n",
       "  <th>AR.15</th> <td>           0.3582</td> <td>          -0.9726j</td> <td>           1.0365</td> <td>          -0.1938</td>\n",
       "</tr>\n",
       "<tr>\n",
       "  <th>AR.16</th> <td>           0.3582</td> <td>          +0.9726j</td> <td>           1.0365</td> <td>           0.1938</td>\n",
       "</tr>\n",
       "<tr>\n",
       "  <th>AR.17</th> <td>           0.7182</td> <td>          -0.8498j</td> <td>           1.1126</td> <td>          -0.1383</td>\n",
       "</tr>\n",
       "<tr>\n",
       "  <th>AR.18</th> <td>           0.7182</td> <td>          +0.8498j</td> <td>           1.1126</td> <td>           0.1383</td>\n",
       "</tr>\n",
       "<tr>\n",
       "  <th>AR.19</th> <td>           0.9528</td> <td>          -0.5983j</td> <td>           1.1251</td> <td>          -0.0892</td>\n",
       "</tr>\n",
       "<tr>\n",
       "  <th>AR.20</th> <td>           0.9528</td> <td>          +0.5983j</td> <td>           1.1251</td> <td>           0.0892</td>\n",
       "</tr>\n",
       "<tr>\n",
       "  <th>AR.21</th> <td>           1.0002</td> <td>          -0.0000j</td> <td>           1.0002</td> <td>          -0.0000</td>\n",
       "</tr>\n",
       "<tr>\n",
       "  <th>AR.22</th> <td>           1.1190</td> <td>          -0.4126j</td> <td>           1.1926</td> <td>          -0.0562</td>\n",
       "</tr>\n",
       "<tr>\n",
       "  <th>AR.23</th> <td>           1.1190</td> <td>          +0.4126j</td> <td>           1.1926</td> <td>           0.0562</td>\n",
       "</tr>\n",
       "<tr>\n",
       "  <th>AR.24</th> <td>           1.2076</td> <td>          -0.1424j</td> <td>           1.2160</td> <td>          -0.0187</td>\n",
       "</tr>\n",
       "<tr>\n",
       "  <th>AR.25</th> <td>           1.2076</td> <td>          +0.1424j</td> <td>           1.2160</td> <td>           0.0187</td>\n",
       "</tr>\n",
       "</table>"
      ],
      "text/plain": [
       "<class 'statsmodels.iolib.summary.Summary'>\n",
       "\"\"\"\n",
       "                            AutoReg Model Results                             \n",
       "==============================================================================\n",
       "Dep. Variable:                      y   No. Observations:                  244\n",
       "Model:                    AutoReg(25)   Log Likelihood                -495.210\n",
       "Method:               Conditional MLE   S.D. of innovations              2.322\n",
       "Date:                Thu, 25 Nov 2021   AIC                              1.931\n",
       "Time:                        14:47:04   BIC                              2.349\n",
       "Sample:                            25   HQIC                             2.100\n",
       "                                  244                                         \n",
       "==============================================================================\n",
       "                 coef    std err          z      P>|z|      [0.025      0.975]\n",
       "------------------------------------------------------------------------------\n",
       "intercept     -1.2693      0.955     -1.329      0.184      -3.141       0.602\n",
       "y.L1           0.9186      0.067     13.653      0.000       0.787       1.051\n",
       "y.L2           0.0160      0.091      0.176      0.860      -0.162       0.194\n",
       "y.L3           0.1848      0.091      2.041      0.041       0.007       0.362\n",
       "y.L4          -0.1664      0.091     -1.825      0.068      -0.345       0.012\n",
       "y.L5           0.1904      0.090      2.124      0.034       0.015       0.366\n",
       "y.L6          -0.2121      0.082     -2.579      0.010      -0.373      -0.051\n",
       "y.L7          -0.0597      0.077     -0.779      0.436      -0.210       0.091\n",
       "y.L8           0.0599      0.075      0.794      0.427      -0.088       0.208\n",
       "y.L9           0.0509      0.076      0.674      0.501      -0.097       0.199\n",
       "y.L10          0.1220      0.075      1.626      0.104      -0.025       0.269\n",
       "y.L11         -0.0910      0.075     -1.221      0.222      -0.237       0.055\n",
       "y.L12          0.0094      0.075      0.126      0.900      -0.137       0.156\n",
       "y.L13         -0.0719      0.075     -0.963      0.336      -0.218       0.074\n",
       "y.L14          0.0034      0.075      0.045      0.964      -0.143       0.150\n",
       "y.L15          0.1250      0.074      1.686      0.092      -0.020       0.270\n",
       "y.L16         -0.0616      0.074     -0.837      0.403      -0.206       0.083\n",
       "y.L17          0.0290      0.073      0.394      0.693      -0.115       0.173\n",
       "y.L18         -0.1454      0.073     -1.987      0.047      -0.289      -0.002\n",
       "y.L19         -0.0015      0.074     -0.020      0.984      -0.146       0.143\n",
       "y.L20          0.2063      0.073      2.817      0.005       0.063       0.350\n",
       "y.L21         -0.1226      0.075     -1.644      0.100      -0.269       0.024\n",
       "y.L22          0.0768      0.075      1.022      0.307      -0.071       0.224\n",
       "y.L23         -0.0606      0.075     -0.808      0.419      -0.208       0.086\n",
       "y.L24         -0.0442      0.074     -0.597      0.550      -0.189       0.101\n",
       "y.L25          0.0443      0.059      0.751      0.453      -0.071       0.160\n",
       "                                    Roots                                     \n",
       "==============================================================================\n",
       "                   Real          Imaginary           Modulus         Frequency\n",
       "------------------------------------------------------------------------------\n",
       "AR.1            -0.8333           -0.6028j            1.0285           -0.4003\n",
       "AR.2            -0.8333           +0.6028j            1.0285            0.4003\n",
       "AR.3            -1.0628           -0.3395j            1.1157           -0.4508\n",
       "AR.4            -1.0628           +0.3395j            1.1157            0.4508\n",
       "AR.5            -1.1396           -0.0000j            1.1396           -0.5000\n",
       "AR.6            -0.6409           -0.8428j            1.0589           -0.3535\n",
       "AR.7            -0.6409           +0.8428j            1.0589            0.3535\n",
       "AR.8            -1.6112           -0.0000j            1.6112           -0.5000\n",
       "AR.9            -0.3914           -1.0310j            1.1028           -0.3077\n",
       "AR.10           -0.3914           +1.0310j            1.1028            0.3077\n",
       "AR.11           -0.1134           -1.2322j            1.2374           -0.2646\n",
       "AR.12           -0.1134           +1.2322j            1.2374            0.2646\n",
       "AR.13            0.0606           -1.1225j            1.1241           -0.2414\n",
       "AR.14            0.0606           +1.1225j            1.1241            0.2414\n",
       "AR.15            0.3582           -0.9726j            1.0365           -0.1938\n",
       "AR.16            0.3582           +0.9726j            1.0365            0.1938\n",
       "AR.17            0.7182           -0.8498j            1.1126           -0.1383\n",
       "AR.18            0.7182           +0.8498j            1.1126            0.1383\n",
       "AR.19            0.9528           -0.5983j            1.1251           -0.0892\n",
       "AR.20            0.9528           +0.5983j            1.1251            0.0892\n",
       "AR.21            1.0002           -0.0000j            1.0002           -0.0000\n",
       "AR.22            1.1190           -0.4126j            1.1926           -0.0562\n",
       "AR.23            1.1190           +0.4126j            1.1926            0.0562\n",
       "AR.24            1.2076           -0.1424j            1.2160           -0.0187\n",
       "AR.25            1.2076           +0.1424j            1.2160            0.0187\n",
       "------------------------------------------------------------------------------\n",
       "\"\"\""
      ]
     },
     "execution_count": 280,
     "metadata": {},
     "output_type": "execute_result"
    }
   ],
   "source": [
    "model.summary()"
   ]
  },
  {
   "cell_type": "code",
   "execution_count": 298,
   "id": "d2f78d43",
   "metadata": {},
   "outputs": [],
   "source": [
    "pred = model.predict(start = len(X_test)+180,end = len(X),dynamic =False)"
   ]
  },
  {
   "cell_type": "code",
   "execution_count": 299,
   "id": "dc32402f",
   "metadata": {
    "scrolled": true
   },
   "outputs": [
    {
     "data": {
      "text/plain": [
       "[<matplotlib.lines.Line2D at 0x1dc2ca908b0>]"
      ]
     },
     "execution_count": 299,
     "metadata": {},
     "output_type": "execute_result"
    },
    {
     "data": {
      "image/png": "[encoded data removed]",
      "text/plain": [
       "<Figure size 432x288 with 1 Axes>"
      ]
     },
     "metadata": {
      "needs_background": "light"
     },
     "output_type": "display_data"
    }
   ],
   "source": [
    "from matplotlib import pyplot\n",
    "pyplot.plot(pred)\n",
    "pyplot.plot(X_test,color='red')"
   ]
  },
  {
   "cell_type": "markdown",
   "id": "3967d0e6",
   "metadata": {},
   "source": []
  }
 ],
 "metadata": {
  "kernelspec": {
   "display_name": "Python 3",
   "language": "python",
   "name": "python3"
  }
 },
 "nbformat": 4,
 "nbformat_minor": 5
}
