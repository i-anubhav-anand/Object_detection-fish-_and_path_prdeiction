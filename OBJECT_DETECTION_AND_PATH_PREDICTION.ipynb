{
 "cells": [
  {
   "cell_type": "code",
   "execution_count": 1,
   "id": "5ba2d87a",
   "metadata": {},
   "outputs": [],
   "source": [
    "import cv2\n",
    "import numpy as np\n",
    "import pandas as pd\n",
    "import matplotlib.pyplot as plt"
   ]
  },
  {
   "cell_type": "markdown",
   "id": "fdb3c991",
   "metadata": {},
   "source": [
    "<h2>Deploying trained weights and config file in OpenCV:<h2>"
   ]
  },
  {
   "cell_type": "code",
   "execution_count": 3,
   "id": "2bb41184",
   "metadata": {},
   "outputs": [],
   "source": [
    "\n",
    "net = cv2.dnn.readNetFromDarknet(\"/Users/anubhav/Desktop/yolov3_custom.cfg\",\n",
    "                                 \"/Users/anubhav/Desktop/yolov3-obj_30000.weights\")\n",
    "classes = ['fish']"
   ]
  },
  {
   "cell_type": "code",
   "execution_count": null,
   "id": "679ed75f",
   "metadata": {
    "scrolled": true
   },
   "outputs": [],
   "source": [
    "x_cen=0\n",
    "my_list = []\n",
    "\n",
    "\n",
    "#location of mp4 file\n",
    "cap = cv2.VideoCapture('/Users/anubhav/Desktop/fishhhhh.mp4')\n",
    "\n",
    "while 1:\n",
    "    _, img = cap.read()\n",
    "    img = cv2.resize(img,(960,480))\n",
    "    hight,width,_ = img.shape\n",
    "    blob = cv2.dnn.blobFromImage(img, 1/255,(416,416),(0,0,0),swapRB = True,crop= False)\n",
    "\n",
    "    net.setInput(blob)\n",
    "\n",
    "    output_layers_name = net.getUnconnectedOutLayersNames()\n",
    "\n",
    "    layerOutputs = net.forward(output_layers_name)\n",
    "\n",
    "    boxes =[]\n",
    "    confidences = []\n",
    "    class_ids = []\n",
    "\n",
    "    for output in layerOutputs:\n",
    "        for detection in output:\n",
    "            score = detection[5:]\n",
    "            class_id = np.argmax(score)\n",
    "            confidence = score[class_id]\n",
    "            if confidence > 0.7:\n",
    "                center_x = int(detection[0] * width)\n",
    "                center_y = int(detection[1] * hight)\n",
    "                w = int(detection[2] * width)\n",
    "                h = int(detection[3]* hight)\n",
    "                x = int(center_x - w/2)\n",
    "                y = int(center_y - h/2)\n",
    "                boxes.append([x,y,w,h])\n",
    "                confidences.append((float(confidence)))\n",
    "                class_ids.append(class_id)\n",
    "    indexes = cv2.dnn.NMSBoxes(boxes,confidences,.5,.4)\n",
    "\n",
    "    boxes =[]\n",
    "    confidences = []\n",
    "    class_ids = []\n",
    "\n",
    "    for output in layerOutputs:\n",
    "        for detection in output:\n",
    "            score = detection[5:]\n",
    "            class_id = np.argmax(score)\n",
    "            confidence = score[class_id]\n",
    "            if confidence > 0.5:\n",
    "                center_x = int(detection[0] * width)\n",
    "                center_y = int(detection[1] * hight)\n",
    "                w = int(detection[2] * width)\n",
    "                h = int(detection[3]* hight)\n",
    "\n",
    "                x = int(center_x - w/2)\n",
    "                y = int(center_y - h/2)\n",
    "\n",
    "\n",
    "\n",
    "                boxes.append([x,y,w,h])\n",
    "                confidences.append((float(confidence)))\n",
    "                class_ids.append(class_id)\n",
    "\n",
    "    indexes = cv2.dnn.NMSBoxes(boxes,confidences,.8,.4)\n",
    "    font = cv2.FONT_HERSHEY_PLAIN\n",
    "    colors = np.random.uniform(0,255,size =(len(boxes),3))\n",
    "    if  len(indexes)>0:\n",
    "        for i in indexes.flatten():\n",
    "            x,y,w,h = boxes[i]\n",
    "            label = str(classes[class_ids[i]])\n",
    "            confidence = str(round(confidences[i],2))\n",
    "            color = colors[i]\n",
    "            cv2.rectangle(img,(x,y),(x+w,y+h),color,2)\n",
    "            \n",
    "            \n",
    "            my_list.append(w/2)\n",
    "            \n",
    "#             if(w/2>x_cen):\n",
    "#                 my_list.append(w/2)\n",
    "#                 x_cen = w/2\n",
    "\n",
    "\n",
    "            \n",
    "            cv2.putText(img,label + \" \" + confidence, (x,y+400),font,2,color,2)\n",
    "\n",
    "    cv2.imshow('img',img)\n",
    "    if cv2.waitKey(1) == ord('q'):\n",
    "        break\n",
    "    \n",
    "cap.release()\n",
    "cv2.destroyAllWindows()\n",
    "\n"
   ]
  },
  {
   "cell_type": "markdown",
   "id": "0871cb89",
   "metadata": {},
   "source": [
    "<h2>Extracted the centre-points of object detected<h2>"
   ]
  },
  {
   "cell_type": "code",
   "execution_count": 37,
   "id": "0fe4fb63",
   "metadata": {
    "scrolled": false
   },
   "outputs": [
    {
     "data": {
      "text/plain": [
       "[33.5,\n",
       " 34.0,\n",
       " 36.5,\n",
       " 37.5,\n",
       " 38.5,\n",
       " 40.0,\n",
       " 43.0,\n",
       " 49.0,\n",
       " 49.5,\n",
       " 38.0,\n",
       " 38.5,\n",
       " 50.5,\n",
       " 38.5,\n",
       " 38.0,\n",
       " 38.5,\n",
       " 38.5,\n",
       " 39.5,\n",
       " 39.0,\n",
       " 40.0,\n",
       " 39.0,\n",
       " 39.5,\n",
       " 38.5,\n",
       " 37.0,\n",
       " 48.0,\n",
       " 51.5,\n",
       " 58.5,\n",
       " 58.5,\n",
       " 61.5,\n",
       " 63.5,\n",
       " 63.5,\n",
       " 68.0,\n",
       " 62.5,\n",
       " 63.0,\n",
       " 62.0,\n",
       " 61.5,\n",
       " 63.0,\n",
       " 65.5,\n",
       " 64.5,\n",
       " 75.5,\n",
       " 84.5,\n",
       " 85.0,\n",
       " 84.0,\n",
       " 93.5,\n",
       " 91.5,\n",
       " 98.5,\n",
       " 101.0,\n",
       " 100.5,\n",
       " 96.0,\n",
       " 110.0,\n",
       " 95.0,\n",
       " 93.0,\n",
       " 92.5,\n",
       " 98.5,\n",
       " 106.0,\n",
       " 110.0,\n",
       " 110.0,\n",
       " 118.5,\n",
       " 120.0,\n",
       " 121.0,\n",
       " 127.5,\n",
       " 125.5,\n",
       " 126.5,\n",
       " 132.0,\n",
       " 130.5,\n",
       " 128.5,\n",
       " 124.5,\n",
       " 124.5,\n",
       " 122.0,\n",
       " 126.0,\n",
       " 121.5,\n",
       " 128.5,\n",
       " 119.5,\n",
       " 121.5,\n",
       " 117.0,\n",
       " 121.5,\n",
       " 115.5,\n",
       " 116.5,\n",
       " 119.5,\n",
       " 121.5,\n",
       " 118.5,\n",
       " 121.0,\n",
       " 120.5,\n",
       " 122.0,\n",
       " 129.5,\n",
       " 140.0,\n",
       " 137.5]"
      ]
     },
     "execution_count": 37,
     "metadata": {},
     "output_type": "execute_result"
    }
   ],
   "source": [
    "my_list"
   ]
  },
  {
   "cell_type": "markdown",
   "id": "c1137074",
   "metadata": {},
   "source": [
    "<h2>Performing Forecasting algorithm to predict path of moving object<h2>"
   ]
  },
  {
   "cell_type": "code",
   "execution_count": 62,
   "id": "e0f05397",
   "metadata": {
    "scrolled": false
   },
   "outputs": [
    {
     "data": {
      "text/plain": [
       "(86, 1)"
      ]
     },
     "execution_count": 62,
     "metadata": {},
     "output_type": "execute_result"
    }
   ],
   "source": [
    "df = pd.DataFrame(my_list)\n",
    "df.shape"
   ]
  },
  {
   "cell_type": "code",
   "execution_count": 63,
   "id": "597fcfa5",
   "metadata": {},
   "outputs": [],
   "source": [
    "import matplotlib.pyplot as plt \n",
    "%matplotlib inline\n"
   ]
  },
  {
   "cell_type": "code",
   "execution_count": 64,
   "id": "16aca945",
   "metadata": {},
   "outputs": [
    {
     "data": {
      "text/html": [
       "<div>\n",
       "<style scoped>\n",
       "    .dataframe tbody tr th:only-of-type {\n",
       "        vertical-align: middle;\n",
       "    }\n",
       "\n",
       "    .dataframe tbody tr th {\n",
       "        vertical-align: top;\n",
       "    }\n",
       "\n",
       "    .dataframe thead th {\n",
       "        text-align: right;\n",
       "    }\n",
       "</style>\n",
       "<table border=\"1\" class=\"dataframe\">\n",
       "  <thead>\n",
       "    <tr style=\"text-align: right;\">\n",
       "      <th></th>\n",
       "      <th>centre</th>\n",
       "    </tr>\n",
       "  </thead>\n",
       "  <tbody>\n",
       "    <tr>\n",
       "      <th>0</th>\n",
       "      <td>33.5</td>\n",
       "    </tr>\n",
       "    <tr>\n",
       "      <th>1</th>\n",
       "      <td>34.0</td>\n",
       "    </tr>\n",
       "    <tr>\n",
       "      <th>2</th>\n",
       "      <td>36.5</td>\n",
       "    </tr>\n",
       "    <tr>\n",
       "      <th>3</th>\n",
       "      <td>37.5</td>\n",
       "    </tr>\n",
       "    <tr>\n",
       "      <th>4</th>\n",
       "      <td>38.5</td>\n",
       "    </tr>\n",
       "  </tbody>\n",
       "</table>\n",
       "</div>"
      ],
      "text/plain": [
       "   centre\n",
       "0    33.5\n",
       "1    34.0\n",
       "2    36.5\n",
       "3    37.5\n",
       "4    38.5"
      ]
     },
     "execution_count": 64,
     "metadata": {},
     "output_type": "execute_result"
    }
   ],
   "source": [
    "df.columns = ['centre']\n",
    "df.head()"
   ]
  },
  {
   "cell_type": "code",
   "execution_count": 65,
   "id": "18e2379d",
   "metadata": {
    "scrolled": false
   },
   "outputs": [
    {
     "data": {
      "text/plain": [
       "<AxesSubplot:>"
      ]
     },
     "execution_count": 65,
     "metadata": {},
     "output_type": "execute_result"
    },
    {
     "data": {
      "image/png": "[encoded data removed]",
      "text/plain": [
       "<Figure size 432x288 with 1 Axes>"
      ]
     },
     "metadata": {
      "needs_background": "light"
     },
     "output_type": "display_data"
    }
   ],
   "source": [
    "df.plot()"
   ]
  },
  {
   "cell_type": "code",
   "execution_count": 66,
   "id": "d1943d0c",
   "metadata": {},
   "outputs": [],
   "source": [
    "from statsmodels.tsa.stattools import adfuller"
   ]
  },
  {
   "cell_type": "code",
   "execution_count": 67,
   "id": "6a40c16f",
   "metadata": {},
   "outputs": [],
   "source": [
    "test_result = adfuller(df['centre'])"
   ]
  },
  {
   "cell_type": "code",
   "execution_count": 68,
   "id": "a6e8ab70",
   "metadata": {},
   "outputs": [],
   "source": [
    "#Ho: It is non stationary\n",
    "#H1: It is stationary\n",
    "\n",
    "def adfuller_test(sales):\n",
    "    result=adfuller(sales)\n",
    "    labels = ['ADF Test Statistic','p-value','#Lags Used','Number of Observations Used']\n",
    "    for value,label in zip(result,labels):\n",
    "        print(label+' : '+str(value) )\n",
    "    if result[1] <= 0.05:\n",
    "        print(\"strong evidence against the null hypothesis(Ho), reject the null hypothesis. Data has no unit root and is stationary\")\n",
    "    else:\n",
    "        print(\"weak evidence against null hypothesis, time series has a unit root, indicating it is non-stationary \")"
   ]
  },
  {
   "cell_type": "code",
   "execution_count": 69,
   "id": "1f81fbc2",
   "metadata": {},
   "outputs": [],
   "source": [
    "df['Seasonal First Difference'] = df['centre']-df['centre'].shift(12)"
   ]
  },
  {
   "cell_type": "code",
   "execution_count": 70,
   "id": "6b3627db",
   "metadata": {
    "scrolled": true
   },
   "outputs": [
    {
     "data": {
      "text/plain": [
       "(86, 2)"
      ]
     },
     "execution_count": 70,
     "metadata": {},
     "output_type": "execute_result"
    }
   ],
   "source": [
    "df.shape"
   ]
  },
  {
   "cell_type": "code",
   "execution_count": 47,
   "id": "513271d2",
   "metadata": {
    "scrolled": true
   },
   "outputs": [
    {
     "name": "stdout",
     "output_type": "stream",
     "text": [
      "ADF Test Statistic : -2.034714269877165\n",
      "p-value : 0.27156251035534573\n",
      "#Lags Used : 0\n",
      "Number of Observations Used : 73\n",
      "weak evidence against null hypothesis, time series has a unit root, indicating it is non-stationary \n"
     ]
    }
   ],
   "source": [
    "adfuller_test(df['Seasonal First Difference'].dropna())"
   ]
  },
  {
   "cell_type": "code",
   "execution_count": 71,
   "id": "9c62804a",
   "metadata": {
    "scrolled": false
   },
   "outputs": [
    {
     "data": {
      "text/plain": [
       "<AxesSubplot:>"
      ]
     },
     "execution_count": 71,
     "metadata": {},
     "output_type": "execute_result"
    },
    {
     "data": {
      "image/png": "[encoded data removed]",
      "text/plain": [
       "<Figure size 432x288 with 1 Axes>"
      ]
     },
     "metadata": {
      "needs_background": "light"
     },
     "output_type": "display_data"
    }
   ],
   "source": [
    "df['Seasonal First Difference'].plot()"
   ]
  },
  {
   "cell_type": "code",
   "execution_count": 72,
   "id": "320761df",
   "metadata": {
    "scrolled": true
   },
   "outputs": [
    {
     "data": {
      "image/png": "[encoded data removed]",
      "text/plain": [
       "<Figure size 432x288 with 1 Axes>"
      ]
     },
     "metadata": {
      "needs_background": "light"
     },
     "output_type": "display_data"
    }
   ],
   "source": [
    " from pandas.plotting import autocorrelation_plot\n",
    " autocorrelation_plot(df['centre'])\n",
    " plt.show()"
   ]
  },
  {
   "cell_type": "code",
   "execution_count": 73,
   "id": "21646821",
   "metadata": {},
   "outputs": [],
   "source": [
    "from statsmodels.graphics.tsaplots import plot_acf,plot_pacf\n",
    "import statsmodels.api as sm"
   ]
  },
  {
   "cell_type": "code",
   "execution_count": 74,
   "id": "b40e01c6",
   "metadata": {
    "scrolled": true
   },
   "outputs": [
    {
     "data": {
      "image/png": "[encoded data removed]",
      "text/plain": [
       "<Figure size 864x576 with 1 Axes>"
      ]
     },
     "metadata": {
      "needs_background": "light"
     },
     "output_type": "display_data"
    }
   ],
   "source": [
    "fig = plt.figure(figsize=(12,8))\n",
    "ax1 = fig.add_subplot(211)\n",
    "fig = sm.graphics.tsa.plot_acf(df['Seasonal First Difference'].iloc[13:],lags=40,ax=ax1)\n",
    "# ax2 = fig.add_subplot(212)\n",
    "# fig = sm.graphics.tsa.plot_pacf(df['Seasonal First Difference'].iloc[13:],lags=40,ax=ax2)"
   ]
  },
  {
   "cell_type": "markdown",
   "id": "ed643562",
   "metadata": {},
   "source": [
    "<h2>Using ARIMA to preidict its path<h2>"
   ]
  },
  {
   "cell_type": "code",
   "execution_count": 77,
   "id": "a1dfdfe7",
   "metadata": {
    "scrolled": true
   },
   "outputs": [
    {
     "name": "stderr",
     "output_type": "stream",
     "text": [
      "/Users/anubhav/opt/anaconda3/lib/python3.8/site-packages/statsmodels/tsa/arima_model.py:472: FutureWarning: \n",
      "statsmodels.tsa.arima_model.ARMA and statsmodels.tsa.arima_model.ARIMA have\n",
      "been deprecated in favor of statsmodels.tsa.arima.model.ARIMA (note the .\n",
      "between arima and model) and\n",
      "statsmodels.tsa.SARIMAX. These will be removed after the 0.12 release.\n",
      "\n",
      "statsmodels.tsa.arima.model.ARIMA makes use of the statespace framework and\n",
      "is both well tested and maintained.\n",
      "\n",
      "To silence this warning and continue using ARMA and ARIMA until they are\n",
      "removed, use:\n",
      "\n",
      "import warnings\n",
      "warnings.filterwarnings('ignore', 'statsmodels.tsa.arima_model.ARMA',\n",
      "                        FutureWarning)\n",
      "warnings.filterwarnings('ignore', 'statsmodels.tsa.arima_model.ARIMA',\n",
      "                        FutureWarning)\n",
      "\n",
      "  warnings.warn(ARIMA_DEPRECATION_WARN, FutureWarning)\n",
      "/Users/anubhav/opt/anaconda3/lib/python3.8/site-packages/statsmodels/tsa/arima_model.py:472: FutureWarning: \n",
      "statsmodels.tsa.arima_model.ARMA and statsmodels.tsa.arima_model.ARIMA have\n",
      "been deprecated in favor of statsmodels.tsa.arima.model.ARIMA (note the .\n",
      "between arima and model) and\n",
      "statsmodels.tsa.SARIMAX. These will be removed after the 0.12 release.\n",
      "\n",
      "statsmodels.tsa.arima.model.ARIMA makes use of the statespace framework and\n",
      "is both well tested and maintained.\n",
      "\n",
      "To silence this warning and continue using ARMA and ARIMA until they are\n",
      "removed, use:\n",
      "\n",
      "import warnings\n",
      "warnings.filterwarnings('ignore', 'statsmodels.tsa.arima_model.ARMA',\n",
      "                        FutureWarning)\n",
      "warnings.filterwarnings('ignore', 'statsmodels.tsa.arima_model.ARIMA',\n",
      "                        FutureWarning)\n",
      "\n",
      "  warnings.warn(ARIMA_DEPRECATION_WARN, FutureWarning)\n"
     ]
    }
   ],
   "source": [
    "from statsmodels.tsa.arima_model import ARIMA\n",
    "model=ARIMA(df['centre'], order=(1,1,1))\n",
    "model_fit=model.fit()"
   ]
  },
  {
   "cell_type": "code",
   "execution_count": 79,
   "id": "d3c99a12",
   "metadata": {
    "scrolled": false
   },
   "outputs": [
    {
     "data": {
      "text/plain": [
       "<AxesSubplot:>"
      ]
     },
     "execution_count": 79,
     "metadata": {},
     "output_type": "execute_result"
    },
    {
     "data": {
      "image/png": "[encoded data removed]",
      "text/plain": [
       "<Figure size 864x576 with 1 Axes>"
      ]
     },
     "metadata": {
      "needs_background": "light"
     },
     "output_type": "display_data"
    }
   ],
   "source": [
    "df['forecast']=model_fit.predict(start=50,end=80,dynamic=True)\n",
    "df[['centre','forecast']].plot(figsize=(12,8))"
   ]
  },
  {
   "cell_type": "markdown",
   "id": "052461df",
   "metadata": {},
   "source": [
    "<h2>Using SARIMAX to predict path <h2>"
   ]
  },
  {
   "cell_type": "code",
   "execution_count": 91,
   "id": "533a5cc1",
   "metadata": {
    "scrolled": true
   },
   "outputs": [],
   "source": [
    "model=sm.tsa.statespace.SARIMAX(df['centre'],order=(1, 0, 0),seasonal_order=(1,1,1,12))\n",
    "results=model.fit()"
   ]
  },
  {
   "cell_type": "code",
   "execution_count": 99,
   "id": "5647a87e",
   "metadata": {},
   "outputs": [
    {
     "data": {
      "text/plain": [
       "<AxesSubplot:>"
      ]
     },
     "execution_count": 99,
     "metadata": {},
     "output_type": "execute_result"
    },
    {
     "data": {
      "image/png": "[encoded data removed]",
      "text/plain": [
       "<Figure size 864x576 with 1 Axes>"
      ]
     },
     "metadata": {
      "needs_background": "light"
     },
     "output_type": "display_data"
    }
   ],
   "source": [
    "df['forecast']=results.predict(start=50,end=86,dynamic=True)\n",
    "df[['centre','forecast']].plot(figsize=(12,8))"
   ]
  },
  {
   "cell_type": "markdown",
   "id": "b96a9860",
   "metadata": {},
   "source": [
    "<h2>Using SARIMAX to predict path <h2>"
   ]
  },
  {
   "cell_type": "code",
   "execution_count": 100,
   "id": "fb1d0864",
   "metadata": {},
   "outputs": [],
   "source": [
    "from statsmodels.tsa.ar_model import AutoReg"
   ]
  },
  {
   "cell_type": "code",
   "execution_count": 111,
   "id": "21470a49",
   "metadata": {},
   "outputs": [
    {
     "data": {
      "text/plain": [
       "0    33.5\n",
       "1    34.0\n",
       "2    36.5\n",
       "3    37.5\n",
       "4    38.5\n",
       "Name: centre, dtype: float64"
      ]
     },
     "execution_count": 111,
     "metadata": {},
     "output_type": "execute_result"
    }
   ],
   "source": [
    "df.head()"
   ]
  },
  {
   "cell_type": "code",
   "execution_count": 112,
   "id": "cf81689b",
   "metadata": {},
   "outputs": [],
   "source": [
    "\n",
    "df=pd.DataFrame(df)"
   ]
  },
  {
   "cell_type": "code",
   "execution_count": 113,
   "id": "1ee56178",
   "metadata": {},
   "outputs": [
    {
     "data": {
      "text/html": [
       "<div>\n",
       "<style scoped>\n",
       "    .dataframe tbody tr th:only-of-type {\n",
       "        vertical-align: middle;\n",
       "    }\n",
       "\n",
       "    .dataframe tbody tr th {\n",
       "        vertical-align: top;\n",
       "    }\n",
       "\n",
       "    .dataframe thead th {\n",
       "        text-align: right;\n",
       "    }\n",
       "</style>\n",
       "<table border=\"1\" class=\"dataframe\">\n",
       "  <thead>\n",
       "    <tr style=\"text-align: right;\">\n",
       "      <th></th>\n",
       "      <th>centre</th>\n",
       "    </tr>\n",
       "  </thead>\n",
       "  <tbody>\n",
       "    <tr>\n",
       "      <th>0</th>\n",
       "      <td>33.5</td>\n",
       "    </tr>\n",
       "    <tr>\n",
       "      <th>1</th>\n",
       "      <td>34.0</td>\n",
       "    </tr>\n",
       "    <tr>\n",
       "      <th>2</th>\n",
       "      <td>36.5</td>\n",
       "    </tr>\n",
       "    <tr>\n",
       "      <th>3</th>\n",
       "      <td>37.5</td>\n",
       "    </tr>\n",
       "    <tr>\n",
       "      <th>4</th>\n",
       "      <td>38.5</td>\n",
       "    </tr>\n",
       "  </tbody>\n",
       "</table>\n",
       "</div>"
      ],
      "text/plain": [
       "   centre\n",
       "0    33.5\n",
       "1    34.0\n",
       "2    36.5\n",
       "3    37.5\n",
       "4    38.5"
      ]
     },
     "execution_count": 113,
     "metadata": {},
     "output_type": "execute_result"
    }
   ],
   "source": [
    "df.head()"
   ]
  },
  {
   "cell_type": "code",
   "execution_count": 114,
   "id": "b4fec536",
   "metadata": {},
   "outputs": [
    {
     "data": {
      "text/plain": [
       "<AxesSubplot:>"
      ]
     },
     "execution_count": 114,
     "metadata": {},
     "output_type": "execute_result"
    },
    {
     "data": {
      "image/png": "[encoded data removed]",
      "text/plain": [
       "<Figure size 432x288 with 1 Axes>"
      ]
     },
     "metadata": {
      "needs_background": "light"
     },
     "output_type": "display_data"
    }
   ],
   "source": [
    "df.plot()"
   ]
  },
  {
   "cell_type": "code",
   "execution_count": 115,
   "id": "af7ee577",
   "metadata": {},
   "outputs": [
    {
     "name": "stdout",
     "output_type": "stream",
     "text": [
      "1: ADF: -0.45468186988222903\n",
      "2: P-values: 0.9005607874283794\n",
      "3: Number of Lags: 1\n",
      "4:critical values :\n",
      "\t 1% : -3.510711795769895\n",
      "\t 5% : -2.8966159448223734\n",
      "\t 10% : -2.5854823866213152\n"
     ]
    }
   ],
   "source": [
    "dftest = adfuller(df['centre'],autolag = 'AIC')\n",
    "print('1: ADF:',dftest[0])\n",
    "print('2: P-values:',dftest[1])\n",
    "print('3: Number of Lags:',dftest[2])\n",
    "print('4:critical values :')\n",
    "for key,val in dftest[4].items():\n",
    "    print(\"\\t\",key ,\":\" ,val)\n"
   ]
  },
  {
   "cell_type": "code",
   "execution_count": 120,
   "id": "d8e60f65",
   "metadata": {},
   "outputs": [
    {
     "data": {
      "image/png": "[encoded data removed]",
      "text/plain": [
       "<Figure size 432x288 with 1 Axes>"
      ]
     },
     "metadata": {
      "needs_background": "light"
     },
     "output_type": "display_data"
    },
    {
     "data": {
      "image/png": "[encoded data removed]",
      "text/plain": [
       "<Figure size 432x288 with 1 Axes>"
      ]
     },
     "metadata": {
      "needs_background": "light"
     },
     "output_type": "display_data"
    }
   ],
   "source": [
    "from statsmodels.graphics.tsaplots import plot_pacf,plot_acf\n",
    "pacf=plot_pacf(df['centre'],lags=25)\n",
    "acf=plot_acf(df['centre'],lags=25)"
   ]
  },
  {
   "cell_type": "code",
   "execution_count": 122,
   "id": "36d8dfe8",
   "metadata": {},
   "outputs": [],
   "source": [
    "X=df['centre']\n",
    "train =X[:len(X)-7]\n",
    "test =X[len(X)-7:]"
   ]
  },
  {
   "cell_type": "code",
   "execution_count": 125,
   "id": "ba9c4e43",
   "metadata": {},
   "outputs": [
    {
     "name": "stderr",
     "output_type": "stream",
     "text": [
      "/Users/anubhav/opt/anaconda3/lib/python3.8/site-packages/statsmodels/tsa/ar_model.py:248: FutureWarning: The parameter names will change after 0.12 is released. Set old_names to False to use the new names now. Set old_names to True to use the old names. \n",
      "  warnings.warn(\n"
     ]
    }
   ],
   "source": [
    "model = AutoReg(train,lags =10).fit()"
   ]
  },
  {
   "cell_type": "code",
   "execution_count": 126,
   "id": "24f87c84",
   "metadata": {},
   "outputs": [
    {
     "name": "stdout",
     "output_type": "stream",
     "text": [
      "                            AutoReg Model Results                             \n",
      "==============================================================================\n",
      "Dep. Variable:                 centre   No. Observations:                   79\n",
      "Model:                    AutoReg(10)   Log Likelihood                -203.444\n",
      "Method:               Conditional MLE   S.D. of innovations              4.616\n",
      "Date:                Wed, 10 Nov 2021   AIC                              3.407\n",
      "Time:                        12:42:36   BIC                              3.795\n",
      "Sample:                            10   HQIC                             3.561\n",
      "                                   79                                         \n",
      "==============================================================================\n",
      "                 coef    std err          z      P>|z|      [0.025      0.975]\n",
      "------------------------------------------------------------------------------\n",
      "intercept      2.7018      1.560      1.732      0.083      -0.356       5.760\n",
      "centre.L1      0.7627      0.114      6.714      0.000       0.540       0.985\n",
      "centre.L2      0.2760      0.143      1.933      0.053      -0.004       0.556\n",
      "centre.L3      0.0843      0.145      0.583      0.560      -0.199       0.368\n",
      "centre.L4      0.0624      0.141      0.441      0.659      -0.215       0.340\n",
      "centre.L5     -0.2675      0.142     -1.885      0.059      -0.546       0.011\n",
      "centre.L6      0.0870      0.144      0.605      0.545      -0.195       0.369\n",
      "centre.L7     -0.2400      0.144     -1.662      0.097      -0.523       0.043\n",
      "centre.L8      0.1121      0.148      0.759      0.448      -0.177       0.402\n",
      "centre.L9      0.1478      0.152      0.975      0.330      -0.149       0.445\n",
      "centre.L10    -0.0399      0.119     -0.334      0.738      -0.274       0.194\n",
      "                                    Roots                                     \n",
      "==============================================================================\n",
      "                   Real          Imaginary           Modulus         Frequency\n",
      "------------------------------------------------------------------------------\n",
      "AR.1            -0.6041           -1.0161j            1.1821           -0.3354\n",
      "AR.2            -0.6041           +1.0161j            1.1821            0.3354\n",
      "AR.3            -1.2598           -0.0000j            1.2598           -0.5000\n",
      "AR.4            -1.5683           -0.0000j            1.5683           -0.5000\n",
      "AR.5             0.2216           -1.2105j            1.2306           -0.2212\n",
      "AR.6             0.2216           +1.2105j            1.2306            0.2212\n",
      "AR.7             1.0129           -0.0000j            1.0129           -0.0000\n",
      "AR.8             1.1213           -0.4548j            1.2101           -0.0613\n",
      "AR.9             1.1213           +0.4548j            1.2101            0.0613\n",
      "AR.10            4.0447           -0.0000j            4.0447           -0.0000\n",
      "------------------------------------------------------------------------------\n"
     ]
    }
   ],
   "source": [
    "print(model.summary())"
   ]
  },
  {
   "cell_type": "code",
   "execution_count": 139,
   "id": "98b74900",
   "metadata": {},
   "outputs": [],
   "source": [
    "pred =model.predict(start=0,end =79,dynamic=False)"
   ]
  },
  {
   "cell_type": "code",
   "execution_count": 136,
   "id": "f9d51e44",
   "metadata": {},
   "outputs": [
    {
     "data": {
      "text/plain": [
       "(79,)"
      ]
     },
     "execution_count": 136,
     "metadata": {},
     "output_type": "execute_result"
    }
   ],
   "source": [
    "train.shape"
   ]
  },
  {
   "cell_type": "code",
   "execution_count": 140,
   "id": "e25b80b9",
   "metadata": {},
   "outputs": [
    {
     "name": "stdout",
     "output_type": "stream",
     "text": [
      "0            NaN\n",
      "1            NaN\n",
      "2            NaN\n",
      "3            NaN\n",
      "4            NaN\n",
      "         ...    \n",
      "75    118.433659\n",
      "76    119.020370\n",
      "77    115.413709\n",
      "78    121.251264\n",
      "79    121.444056\n",
      "Length: 80, dtype: float64\n"
     ]
    },
    {
     "data": {
      "image/png": "[encoded data removed]",
      "text/plain": [
       "<Figure size 432x288 with 1 Axes>"
      ]
     },
     "metadata": {
      "needs_background": "light"
     },
     "output_type": "display_data"
    }
   ],
   "source": [
    "from matplotlib import pyplot\n",
    "pyplot.plot(pred)\n",
    "pyplot.plot(test,color ='red')\n",
    "print(pred)\n",
    "\n"
   ]
  }
 ],
 "metadata": {
  "kernelspec": {
   "display_name": "Python 3",
   "language": "python",
   "name": "python3"
  }
 },
 "nbformat": 4,
 "nbformat_minor": 5
}
